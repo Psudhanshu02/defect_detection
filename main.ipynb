{
 "cells": [
  {
   "cell_type": "code",
   "execution_count": 64,
   "metadata": {},
   "outputs": [],
   "source": [
    "import tensorflow as tf\n",
    "import torch"
   ]
  },
  {
   "cell_type": "code",
   "execution_count": 3,
   "metadata": {},
   "outputs": [
    {
     "name": "stdout",
     "output_type": "stream",
     "text": [
      "loading Roboflow workspace...\n",
      "loading Roboflow project...\n",
      "Dependency ultralytics==8.0.196 is required but found version=8.1.13, to fix: `pip install ultralytics==8.0.196`\n"
     ]
    },
    {
     "name": "stderr",
     "output_type": "stream",
     "text": [
      "Downloading Dataset Version Zip in crack_detection-1 to yolov8:: 100%|██████████| 44745/44745 [00:25<00:00, 1739.13it/s]"
     ]
    },
    {
     "name": "stdout",
     "output_type": "stream",
     "text": [
      "\n"
     ]
    },
    {
     "name": "stderr",
     "output_type": "stream",
     "text": [
      "\n",
      "Extracting Dataset Version Zip to crack_detection-1 in yolov8:: 100%|██████████| 2106/2106 [00:00<00:00, 11006.92it/s]\n"
     ]
    }
   ],
   "source": [
    "from roboflow import Roboflow\n",
    "rf=Roboflow(api_key=\"9U7LpeqmjKg4frtGxhO2\")\n",
    "project=rf.workspace(\"sudhanshu-gaaeb\").project(\"crack_detection-nfj81\")\n",
    "dataset =project.version(1).download(\"yolov8\")"
   ]
  },
  {
   "cell_type": "code",
   "execution_count": 4,
   "metadata": {},
   "outputs": [
    {
     "name": "stdout",
     "output_type": "stream",
     "text": [
      "Requirement already satisfied: roboflow in /media/fatninja/mighty/workspace/anaconda3/lib/python3.10/site-packages (1.1.19)\n",
      "Requirement already satisfied: PyYAML>=5.3.1 in /media/fatninja/mighty/workspace/anaconda3/lib/python3.10/site-packages (from roboflow) (6.0.1)\n",
      "Requirement already satisfied: certifi==2023.7.22 in /media/fatninja/mighty/workspace/anaconda3/lib/python3.10/site-packages (from roboflow) (2023.7.22)\n",
      "Requirement already satisfied: tqdm>=4.41.0 in /media/fatninja/mighty/workspace/anaconda3/lib/python3.10/site-packages (from roboflow) (4.65.0)\n",
      "Requirement already satisfied: python-dotenv in /media/fatninja/mighty/workspace/anaconda3/lib/python3.10/site-packages (from roboflow) (1.0.1)\n",
      "Requirement already satisfied: cycler==0.10.0 in /media/fatninja/mighty/workspace/anaconda3/lib/python3.10/site-packages (from roboflow) (0.10.0)\n",
      "Requirement already satisfied: kiwisolver>=1.3.1 in /media/fatninja/mighty/workspace/anaconda3/lib/python3.10/site-packages (from roboflow) (1.4.5)\n",
      "Requirement already satisfied: matplotlib in /media/fatninja/mighty/workspace/anaconda3/lib/python3.10/site-packages (from roboflow) (3.8.2)\n",
      "Requirement already satisfied: python-magic in /media/fatninja/mighty/workspace/anaconda3/lib/python3.10/site-packages (from roboflow) (0.4.27)\n",
      "Requirement already satisfied: python-dateutil in /media/fatninja/mighty/workspace/anaconda3/lib/python3.10/site-packages (from roboflow) (2.8.2)\n",
      "Requirement already satisfied: six in /media/fatninja/mighty/workspace/anaconda3/lib/python3.10/site-packages (from roboflow) (1.16.0)\n",
      "Requirement already satisfied: requests in /media/fatninja/mighty/workspace/anaconda3/lib/python3.10/site-packages (from roboflow) (2.31.0)\n",
      "Requirement already satisfied: numpy>=1.18.5 in /media/fatninja/mighty/workspace/anaconda3/lib/python3.10/site-packages (from roboflow) (1.26.2)\n",
      "Requirement already satisfied: supervision in /media/fatninja/mighty/workspace/anaconda3/lib/python3.10/site-packages (from roboflow) (0.18.0)\n",
      "Requirement already satisfied: requests-toolbelt in /media/fatninja/mighty/workspace/anaconda3/lib/python3.10/site-packages (from roboflow) (1.0.0)\n",
      "Requirement already satisfied: urllib3>=1.26.6 in /media/fatninja/mighty/workspace/anaconda3/lib/python3.10/site-packages (from roboflow) (2.1.0)\n",
      "Requirement already satisfied: chardet==4.0.0 in /media/fatninja/mighty/workspace/anaconda3/lib/python3.10/site-packages (from roboflow) (4.0.0)\n",
      "Requirement already satisfied: idna==2.10 in /media/fatninja/mighty/workspace/anaconda3/lib/python3.10/site-packages (from roboflow) (2.10)\n",
      "Requirement already satisfied: Pillow>=7.1.2 in /media/fatninja/mighty/workspace/anaconda3/lib/python3.10/site-packages (from roboflow) (10.0.1)\n",
      "Requirement already satisfied: opencv-python-headless==4.8.0.74 in /media/fatninja/mighty/workspace/anaconda3/lib/python3.10/site-packages (from roboflow) (4.8.0.74)\n",
      "Requirement already satisfied: contourpy>=1.0.1 in /media/fatninja/mighty/workspace/anaconda3/lib/python3.10/site-packages (from matplotlib->roboflow) (1.2.0)\n",
      "Requirement already satisfied: pyparsing>=2.3.1 in /media/fatninja/mighty/workspace/anaconda3/lib/python3.10/site-packages (from matplotlib->roboflow) (3.1.1)\n",
      "Requirement already satisfied: fonttools>=4.22.0 in /media/fatninja/mighty/workspace/anaconda3/lib/python3.10/site-packages (from matplotlib->roboflow) (4.47.2)\n",
      "Requirement already satisfied: packaging>=20.0 in /media/fatninja/mighty/workspace/anaconda3/lib/python3.10/site-packages (from matplotlib->roboflow) (23.2)\n",
      "Requirement already satisfied: charset-normalizer<4,>=2 in /media/fatninja/mighty/workspace/anaconda3/lib/python3.10/site-packages (from requests->roboflow) (3.3.2)\n",
      "Requirement already satisfied: defusedxml<0.8.0,>=0.7.1 in /media/fatninja/mighty/workspace/anaconda3/lib/python3.10/site-packages (from supervision->roboflow) (0.7.1)\n",
      "Requirement already satisfied: scipy<2.0.0,>=1.10.0 in /media/fatninja/mighty/workspace/anaconda3/lib/python3.10/site-packages (from supervision->roboflow) (1.12.0)\n"
     ]
    }
   ],
   "source": [
    "!pip install roboflow\n"
   ]
  },
  {
   "cell_type": "code",
   "execution_count": null,
   "metadata": {},
   "outputs": [],
   "source": [
    "from ultralytics import YOLO\n",
    "\n",
    "# Load a model\n",
    "#model = YOLO(\"yolov8n.yaml\")  # build a new model from scratch\n",
    "model = YOLO(\"yolov8n.pt\")  # load a pretrained model (recommended for training)\n",
    "\n",
    "# Use the model\n",
    "model.train(data=\"/home/fatninja/Desktop/defectDetection/crack_detection-1/data.yaml\", epochs=25)  # train the model"
   ]
  },
  {
   "cell_type": "code",
   "execution_count": 19,
   "metadata": {},
   "outputs": [
    {
     "name": "stdout",
     "output_type": "stream",
     "text": [
      "Ultralytics YOLOv8.1.16 🚀 Python-3.10.13 torch-2.2.0+cu121 CUDA:0 (NVIDIA RTX A4000, 16109MiB)\n",
      "Model summary (fused): 168 layers, 3006428 parameters, 0 gradients, 8.1 GFLOPs\n",
      "\n",
      "image 1/1 /home/fatninja/Desktop/defectDetection/crack_detection-1/test/images/2c728a0d-fbba-49b1-9d5f-6de47aa7336c_jpg.rf.1c4bd9b56ecdbde25a68bc99e4928f77.jpg: 640x640 1 1, 1 2, 1 3, 5.6ms\n",
      "Speed: 2.3ms preprocess, 5.6ms inference, 351.7ms postprocess per image at shape (1, 3, 640, 640)\n",
      "Results saved to \u001b[1mruns/detect/predict\u001b[0m\n",
      "💡 Learn more at https://docs.ultralytics.com/modes/predict\n"
     ]
    }
   ],
   "source": [
    "!yolo predict model=/home/fatninja/Desktop/defectDetection/runs/detect/train/weights/best.pt source=\"/home/fatninja/Desktop/defectDetection/crack_detection-1/test/images/2c728a0d-fbba-49b1-9d5f-6de47aa7336c_jpg.rf.1c4bd9b56ecdbde25a68bc99e4928f77.jpg\""
   ]
  },
  {
   "cell_type": "code",
   "execution_count": 22,
   "metadata": {},
   "outputs": [
    {
     "name": "stdout",
     "output_type": "stream",
     "text": [
      "Ultralytics YOLOv8.1.16 🚀 Python-3.10.13 torch-2.2.0+cu121 CUDA:0 (NVIDIA RTX A4000, 16109MiB)\n",
      "Model summary (fused): 168 layers, 3006428 parameters, 0 gradients, 8.1 GFLOPs\n",
      "\n",
      "image 1/105 /home/fatninja/Desktop/defectDetection/crack_detection-1/test/images/2c728a0d-fbba-49b1-9d5f-6de47aa7336c_jpg.rf.1c4bd9b56ecdbde25a68bc99e4928f77.jpg: 640x640 1 1, 1 2, 1 3, 5.4ms\n",
      "image 2/105 /home/fatninja/Desktop/defectDetection/crack_detection-1/test/images/35717189-6434-47e5-b477-33f063de8b4f_jpg.rf.d887a7b803c762655fb443d6c1f9c3e9.jpg: 640x640 1 1, 1 2, 1 3, 5.9ms\n",
      "image 3/105 /home/fatninja/Desktop/defectDetection/crack_detection-1/test/images/42a1651e-72af-43ee-86e8-420d57d62820_jpg.rf.73ea2039b5711e037ff53e2f77ee2a96.jpg: 640x640 1 1, 1 2, 1 3, 5.6ms\n",
      "image 4/105 /home/fatninja/Desktop/defectDetection/crack_detection-1/test/images/497a7473-1a44-4651-9589-6a73118cb33f_jpg.rf.2135902b45ebd2052c94d4b30d199012.jpg: 640x640 2 1s, 1 2, 1 3, 6.0ms\n",
      "image 5/105 /home/fatninja/Desktop/defectDetection/crack_detection-1/test/images/5a0938ca-dd2f-4c29-8371-eb6c7c0da4a8_jpg.rf.9ee40f229115214187409fab73f3b351.jpg: 640x640 1 1, 1 2, 1 3, 6.2ms\n",
      "image 6/105 /home/fatninja/Desktop/defectDetection/crack_detection-1/test/images/650d014d-576e-42b3-814d-08bd298f8f9f_jpg.rf.a8972c56cd24ef5726fae344131649ec.jpg: 640x640 1 1, 1 2, 1 3, 6.2ms\n",
      "image 7/105 /home/fatninja/Desktop/defectDetection/crack_detection-1/test/images/78ff2d1b-5e95-48ff-ba26-1c03f11f56b9_jpg.rf.8483686404f2d6c795f90592a2959080.jpg: 640x640 1 1, 1 2, 1 3, 5.8ms\n",
      "image 8/105 /home/fatninja/Desktop/defectDetection/crack_detection-1/test/images/98930dbe-9889-4f86-bbad-bb2feb8296fb_jpg.rf.f472fe3091c39cb5d074065b7287e356.jpg: 640x640 1 1, 1 2, 1 3, 6.1ms\n",
      "image 9/105 /home/fatninja/Desktop/defectDetection/crack_detection-1/test/images/9b8eabf5-9ce1-487a-b3db-8572a62be8d4_jpg.rf.69c17f823b9c4558053682a2fecc579f.jpg: 640x640 1 1, 1 2, 1 3, 5.7ms\n",
      "image 10/105 /home/fatninja/Desktop/defectDetection/crack_detection-1/test/images/SampleV1_1_mp4-0_jpg.rf.8cb81378947cc93d3f37703be995c7c6.jpg: 640x640 1 0, 12 1s, 12 2s, 5.4ms\n",
      "image 11/105 /home/fatninja/Desktop/defectDetection/crack_detection-1/test/images/SampleV1_1_mp4-10_jpg.rf.bf58e6f9618e9baafb26435319cbaccf.jpg: 640x640 2 1s, 2 2s, 5.7ms\n",
      "image 12/105 /home/fatninja/Desktop/defectDetection/crack_detection-1/test/images/SampleV1_1_mp4-11_jpg.rf.2734e3e1c203018827943edd04f74e33.jpg: 640x640 1 0, 1 1, 2 2s, 6.0ms\n",
      "image 13/105 /home/fatninja/Desktop/defectDetection/crack_detection-1/test/images/SampleV1_1_mp4-13_jpg.rf.f9be6f2c6bbf7471623abe99998f3ed2.jpg: 640x640 1 0, 1 1, 2 2s, 6.1ms\n",
      "image 14/105 /home/fatninja/Desktop/defectDetection/crack_detection-1/test/images/SampleV1_1_mp4-20_jpg.rf.27cdda4862535f81b624400f23eeec88.jpg: 640x640 1 0, 1 1, 1 2, 5.6ms\n",
      "image 15/105 /home/fatninja/Desktop/defectDetection/crack_detection-1/test/images/SampleV1_1_mp4-30_jpg.rf.bdde5e0b12250ab33e68f5915e973516.jpg: 640x640 1 1, 1 2, 5.6ms\n",
      "image 16/105 /home/fatninja/Desktop/defectDetection/crack_detection-1/test/images/SampleV1_1_mp4-35_jpg.rf.efa0486cfb24384dc7ae8709cf840b27.jpg: 640x640 1 0, 1 1, 1 2, 5.8ms\n",
      "image 17/105 /home/fatninja/Desktop/defectDetection/crack_detection-1/test/images/SampleV1_1_mp4-41_jpg.rf.7a566d0f39a090b8ad93ed9ce091e773.jpg: 640x640 1 0, 4 1s, 6 2s, 5.7ms\n",
      "image 18/105 /home/fatninja/Desktop/defectDetection/crack_detection-1/test/images/SampleV1_1_mp4-44_jpg.rf.48c46e3368542a033fefa1a4a112b31e.jpg: 640x640 4 0s, 4 1s, 5 2s, 7.2ms\n",
      "image 19/105 /home/fatninja/Desktop/defectDetection/crack_detection-1/test/images/SampleV1_1_mp4-44_jpg.rf.870824f74d2c23dce13a0abf24e1d074.jpg: 640x640 3 0s, 4 1s, 6 2s, 5.6ms\n",
      "image 20/105 /home/fatninja/Desktop/defectDetection/crack_detection-1/test/images/SampleV1_1_mp4-46_jpg.rf.d174bccb986e3e01c69e1b7d5bd82b37.jpg: 640x640 6 0s, 4 1s, 5 2s, 5.7ms\n",
      "image 21/105 /home/fatninja/Desktop/defectDetection/crack_detection-1/test/images/SampleV1_1_mp4-47_jpg.rf.5ecc110bd7ef7f77eb9793d766032142.jpg: 640x640 2 0s, 2 1s, 3 2s, 6.0ms\n",
      "image 22/105 /home/fatninja/Desktop/defectDetection/crack_detection-1/test/images/SampleV1_1_mp4-49_jpg.rf.0fb406a536806c99ce1d883c81c51d68.jpg: 640x640 6 0s, 4 1s, 3 2s, 5.8ms\n",
      "image 23/105 /home/fatninja/Desktop/defectDetection/crack_detection-1/test/images/SampleV1_1_mp4-55_jpg.rf.91307c9c2c7c5dccf416a1926fc81224.jpg: 640x640 2 1s, 3 2s, 5.4ms\n",
      "image 24/105 /home/fatninja/Desktop/defectDetection/crack_detection-1/test/images/SampleV1_1_mp4-58_jpg.rf.d703c45c4bdeb341ead15f1371522fad.jpg: 640x640 1 0, 3 1s, 4 2s, 5.5ms\n",
      "image 25/105 /home/fatninja/Desktop/defectDetection/crack_detection-1/test/images/SampleV1_1_mp4-65_jpg.rf.ef5bd9b9119a6617a857941944c4e7b8.jpg: 640x640 2 0s, 13 1s, 11 2s, 5.9ms\n",
      "image 26/105 /home/fatninja/Desktop/defectDetection/crack_detection-1/test/images/SampleV1_2_mp4-15_jpg.rf.2930db6c4526777445e72883a4e91d58.jpg: 640x640 5 0s, 2 1s, 2 2s, 6.0ms\n",
      "image 27/105 /home/fatninja/Desktop/defectDetection/crack_detection-1/test/images/SampleV1_2_mp4-22_jpg.rf.7772b9b7a1fa8069d243b59d1331cacf.jpg: 640x640 3 0s, 1 1, 1 2, 5.7ms\n",
      "image 28/105 /home/fatninja/Desktop/defectDetection/crack_detection-1/test/images/SampleV1_2_mp4-23_jpg.rf.9f83d0e9ad3cbe0e8e6fc98b47bc1f18.jpg: 640x640 1 0, 1 1, 1 2, 5.7ms\n",
      "image 29/105 /home/fatninja/Desktop/defectDetection/crack_detection-1/test/images/SampleV1_2_mp4-24_jpg.rf.71eac55f86e6e37247058435c7a3262f.jpg: 640x640 2 0s, 2 1s, 2 2s, 5.4ms\n",
      "image 30/105 /home/fatninja/Desktop/defectDetection/crack_detection-1/test/images/SampleV1_2_mp4-25_jpg.rf.a1cc15c6a13f9f442cb46f7996be9151.jpg: 640x640 2 0s, 1 1, 1 2, 5.8ms\n",
      "image 31/105 /home/fatninja/Desktop/defectDetection/crack_detection-1/test/images/SampleV1_2_mp4-28_jpg.rf.f6206abf767d28bd38c1cd0bcf429a26.jpg: 640x640 1 0, 4 1s, 3 2s, 6.0ms\n",
      "image 32/105 /home/fatninja/Desktop/defectDetection/crack_detection-1/test/images/SampleV1_2_mp4-4_jpg.rf.820543635eadffd6e230eec63c333587.jpg: 640x640 1 0, 2 1s, 2 2s, 5.8ms\n",
      "image 33/105 /home/fatninja/Desktop/defectDetection/crack_detection-1/test/images/SampleV2_1_mp4-12_jpg.rf.06a9c9c189572bc1ff775685e7c75e94.jpg: 640x640 1 0, 4 1s, 4 2s, 5.4ms\n",
      "image 34/105 /home/fatninja/Desktop/defectDetection/crack_detection-1/test/images/SampleV2_1_mp4-12_jpg.rf.0af66a6d70bd67ec0616057eb553edbb.jpg: 640x640 1 0, 4 1s, 4 2s, 6.2ms\n",
      "image 35/105 /home/fatninja/Desktop/defectDetection/crack_detection-1/test/images/SampleV2_1_mp4-14_jpg.rf.e963e4ea94845019a66d7276f9d036ec.jpg: 640x640 2 0s, 4 1s, 4 2s, 6.0ms\n",
      "image 36/105 /home/fatninja/Desktop/defectDetection/crack_detection-1/test/images/SampleV2_1_mp4-1_jpg.rf.614c008f9efd051c33b50a314364442d.jpg: 640x640 3 0s, 14 1s, 12 2s, 5.5ms\n",
      "image 37/105 /home/fatninja/Desktop/defectDetection/crack_detection-1/test/images/SampleV2_1_mp4-2_jpg.rf.78c4a5b754288c329b43bc4066e7584a.jpg: 640x640 5 0s, 12 1s, 12 2s, 5.5ms\n",
      "image 38/105 /home/fatninja/Desktop/defectDetection/crack_detection-1/test/images/SampleV2_1_mp4-30_jpg.rf.3a28d198121ee54ec358719dfcfdac5b.jpg: 640x640 2 0s, 4 1s, 4 2s, 6.0ms\n",
      "image 39/105 /home/fatninja/Desktop/defectDetection/crack_detection-1/test/images/SampleV2_1_mp4-32_jpg.rf.f3c1e7a9adbf35ddb8c7c70248836855.jpg: 640x640 3 1s, 4 2s, 5.6ms\n",
      "image 40/105 /home/fatninja/Desktop/defectDetection/crack_detection-1/test/images/SampleV2_1_mp4-35_jpg.rf.eac77064ae71e9784f0f22ad3ab7c290.jpg: 640x640 1 0, 3 1s, 3 2s, 5.6ms\n",
      "image 41/105 /home/fatninja/Desktop/defectDetection/crack_detection-1/test/images/SampleV2_1_mp4-37_jpg.rf.096f75c0240db243a1739671efb2ae4f.jpg: 640x640 1 0, 2 1s, 4 2s, 5.5ms\n",
      "image 42/105 /home/fatninja/Desktop/defectDetection/crack_detection-1/test/images/SampleV2_1_mp4-39_jpg.rf.8d30c7203da074f0935176239131c898.jpg: 640x640 2 1s, 1 2, 5.6ms\n",
      "image 43/105 /home/fatninja/Desktop/defectDetection/crack_detection-1/test/images/SampleV2_1_mp4-39_jpg.rf.b2a0be91e270552f9ca8b40acf14fff9.jpg: 640x640 2 1s, 2 2s, 6.0ms\n",
      "image 44/105 /home/fatninja/Desktop/defectDetection/crack_detection-1/test/images/SampleV2_1_mp4-41_jpg.rf.ba9f1fcde6bd6d1a5e7797db0bceda79.jpg: 640x640 3 0s, 2 1s, 2 2s, 6.0ms\n",
      "image 45/105 /home/fatninja/Desktop/defectDetection/crack_detection-1/test/images/SampleV2_1_mp4-44_jpg.rf.27ead55760c17c03dc74f4b85ce5795c.jpg: 640x640 1 0, 2 1s, 2 2s, 5.7ms\n",
      "image 46/105 /home/fatninja/Desktop/defectDetection/crack_detection-1/test/images/SampleV2_1_mp4-4_jpg.rf.4b33bcaa96886df8972378062727a737.jpg: 640x640 7 0s, 9 1s, 9 2s, 5.4ms\n",
      "image 47/105 /home/fatninja/Desktop/defectDetection/crack_detection-1/test/images/SampleV2_1_mp4-51_jpg.rf.d6b49bf9e826965caf0297b904c8fee0.jpg: 640x640 2 1s, 2 2s, 5.5ms\n",
      "image 48/105 /home/fatninja/Desktop/defectDetection/crack_detection-1/test/images/SampleV2_1_mp4-52_jpg.rf.b8c26392786613f8bef9cb3c1918eb83.jpg: 640x640 1 0, 1 1, 1 2, 6.0ms\n",
      "image 49/105 /home/fatninja/Desktop/defectDetection/crack_detection-1/test/images/SampleV2_1_mp4-57_jpg.rf.71451d5b8d524b58116b3014616e8f6f.jpg: 640x640 3 1s, 2 2s, 5.8ms\n",
      "image 50/105 /home/fatninja/Desktop/defectDetection/crack_detection-1/test/images/SampleV2_1_mp4-61_jpg.rf.e4423ff890873749b7fa158b8b9a0131.jpg: 640x640 3 1s, 3 2s, 5.7ms\n",
      "image 51/105 /home/fatninja/Desktop/defectDetection/crack_detection-1/test/images/SampleV2_1_mp4-62_jpg.rf.4a8f823559b4841f3dd0f148417ebe84.jpg: 640x640 1 0, 3 1s, 4 2s, 5.4ms\n",
      "image 52/105 /home/fatninja/Desktop/defectDetection/crack_detection-1/test/images/SampleV2_1_mp4-77_jpg.rf.b0668ddda04f3036664ea09f4ce2b477.jpg: 640x640 1 0, 4 1s, 4 2s, 5.4ms\n",
      "image 53/105 /home/fatninja/Desktop/defectDetection/crack_detection-1/test/images/SampleV2_1_mp4-7_jpg.rf.f81668196249174ea353b4724858da4a.jpg: 640x640 5 0s, 4 1s, 5 2s, 5.9ms\n",
      "image 54/105 /home/fatninja/Desktop/defectDetection/crack_detection-1/test/images/SampleV2_1_mp4-81_jpg.rf.e644a0a3c7f77daf0f98f5d717a1c2a6.jpg: 640x640 3 0s, 2 1s, 3 2s, 5.7ms\n",
      "image 55/105 /home/fatninja/Desktop/defectDetection/crack_detection-1/test/images/SampleV2_1_mp4-83_jpg.rf.bf1a8e03e4aa7028e9ca968cb8697edf.jpg: 640x640 1 0, 1 1, 2 2s, 5.5ms\n",
      "image 56/105 /home/fatninja/Desktop/defectDetection/crack_detection-1/test/images/SampleV2_1_mp4-85_jpg.rf.97776875f12a38e28d4fa01b80bdeaed.jpg: 640x640 1 0, 1 1, 1 2, 5.5ms\n",
      "image 57/105 /home/fatninja/Desktop/defectDetection/crack_detection-1/test/images/SampleV2_1_mp4-92_jpg.rf.f40bc7c7ed6cb5ec483e5179db52975f.jpg: 640x640 4 1s, 5 2s, 5.6ms\n",
      "image 58/105 /home/fatninja/Desktop/defectDetection/crack_detection-1/test/images/SampleV2_1_mp4-94_jpg.rf.047431208005cc12a67de1436e548996.jpg: 640x640 2 0s, 5 1s, 5 2s, 5.6ms\n",
      "image 59/105 /home/fatninja/Desktop/defectDetection/crack_detection-1/test/images/SampleV2_2_mp4-102_jpg.rf.bf7de13f064a8cf8f9cc2d06fc4458db.jpg: 640x640 3 1s, 2 2s, 5.4ms\n",
      "image 60/105 /home/fatninja/Desktop/defectDetection/crack_detection-1/test/images/SampleV2_2_mp4-108_jpg.rf.395a606e52bd68a056acc551667e5071.jpg: 640x640 12 1s, 10 2s, 5.5ms\n",
      "image 61/105 /home/fatninja/Desktop/defectDetection/crack_detection-1/test/images/SampleV2_2_mp4-11_jpg.rf.c5feb2397d306f865747e74fa4745db9.jpg: 640x640 3 0s, 7 1s, 7 2s, 6.2ms\n",
      "image 62/105 /home/fatninja/Desktop/defectDetection/crack_detection-1/test/images/SampleV2_2_mp4-11_jpg.rf.d2ab0ba4e816b3efb9601564f743e48b.jpg: 640x640 2 0s, 7 1s, 7 2s, 5.7ms\n",
      "image 63/105 /home/fatninja/Desktop/defectDetection/crack_detection-1/test/images/SampleV2_2_mp4-12_jpg.rf.111679ac4a11de4190ab4befd02cf14d.jpg: 640x640 3 0s, 6 1s, 6 2s, 5.5ms\n",
      "image 64/105 /home/fatninja/Desktop/defectDetection/crack_detection-1/test/images/SampleV2_2_mp4-19_jpg.rf.e919b8b5bedeb9f6917034ed3cc383ff.jpg: 640x640 4 1s, 5 2s, 5.6ms\n",
      "image 65/105 /home/fatninja/Desktop/defectDetection/crack_detection-1/test/images/SampleV2_2_mp4-26_jpg.rf.c97fa38e1bf949e4e1f6fa4309fcb93a.jpg: 640x640 1 0, 3 1s, 3 2s, 5.8ms\n",
      "image 66/105 /home/fatninja/Desktop/defectDetection/crack_detection-1/test/images/SampleV2_2_mp4-36_jpg.rf.92168a74592d4280c39d3ed5933d4b3d.jpg: 640x640 1 0, 3 1s, 6 2s, 5.8ms\n",
      "image 67/105 /home/fatninja/Desktop/defectDetection/crack_detection-1/test/images/SampleV2_2_mp4-40_jpg.rf.d8d977dc73241febf9b744d0e0ea2d41.jpg: 640x640 2 0s, 4 1s, 8 2s, 5.7ms\n",
      "image 68/105 /home/fatninja/Desktop/defectDetection/crack_detection-1/test/images/SampleV2_2_mp4-46_jpg.rf.1d523be59f57dce419bf83175f56aca3.jpg: 640x640 1 0, 1 1, 2 2s, 5.5ms\n",
      "image 69/105 /home/fatninja/Desktop/defectDetection/crack_detection-1/test/images/SampleV2_2_mp4-46_jpg.rf.c3e7b58a2c2100b3007ff4c4781f3eec.jpg: 640x640 1 0, 1 1, 2 2s, 5.6ms\n",
      "image 70/105 /home/fatninja/Desktop/defectDetection/crack_detection-1/test/images/SampleV2_2_mp4-4_jpg.rf.c5f7ecfa71825c724b9bd902e0454de2.jpg: 640x640 4 0s, 11 1s, 13 2s, 5.9ms\n",
      "image 71/105 /home/fatninja/Desktop/defectDetection/crack_detection-1/test/images/SampleV2_2_mp4-50_jpg.rf.bff6a2cd63de0ff85a34ea1f9105905d.jpg: 640x640 2 1s, 2 2s, 5.8ms\n",
      "image 72/105 /home/fatninja/Desktop/defectDetection/crack_detection-1/test/images/SampleV2_2_mp4-58_jpg.rf.da155b9eba1267d50672f78f4f0faf3f.jpg: 640x640 1 0, 2 1s, 2 2s, 5.5ms\n",
      "image 73/105 /home/fatninja/Desktop/defectDetection/crack_detection-1/test/images/SampleV2_2_mp4-5_jpg.rf.9f2b87e88764e2e190de59160e11212b.jpg: 640x640 5 0s, 11 1s, 12 2s, 5.5ms\n",
      "image 74/105 /home/fatninja/Desktop/defectDetection/crack_detection-1/test/images/SampleV2_2_mp4-60_jpg.rf.79999b72b11e2ac87ccabb69e1dba2ce.jpg: 640x640 4 0s, 2 1s, 2 2s, 5.9ms\n",
      "image 75/105 /home/fatninja/Desktop/defectDetection/crack_detection-1/test/images/SampleV2_2_mp4-61_jpg.rf.ea976d0fdc48932e1d28893cf1dc43bf.jpg: 640x640 2 0s, 1 2, 5.8ms\n",
      "image 76/105 /home/fatninja/Desktop/defectDetection/crack_detection-1/test/images/SampleV2_2_mp4-63_jpg.rf.2e1c576250ef82b105e3314d1a007565.jpg: 640x640 5 0s, 7 1s, 5 2s, 5.5ms\n",
      "image 77/105 /home/fatninja/Desktop/defectDetection/crack_detection-1/test/images/SampleV2_2_mp4-65_jpg.rf.74badf068f7a48dcf5d1ceaf10f06224.jpg: 640x640 1 0, 4 1s, 5 2s, 5.7ms\n",
      "image 78/105 /home/fatninja/Desktop/defectDetection/crack_detection-1/test/images/SampleV2_2_mp4-68_jpg.rf.5b1693a02af17f6a8dc7aa97e4892060.jpg: 640x640 3 1s, 4 2s, 6.1ms\n",
      "image 79/105 /home/fatninja/Desktop/defectDetection/crack_detection-1/test/images/SampleV2_2_mp4-83_jpg.rf.cab554de832f8bfce880ff949d13d3c4.jpg: 640x640 1 0, 6 1s, 4 2s, 5.8ms\n",
      "image 80/105 /home/fatninja/Desktop/defectDetection/crack_detection-1/test/images/SampleV2_2_mp4-8_jpg.rf.bb92563cfdeb8ef7566489974497ec68.jpg: 640x640 3 0s, 10 1s, 10 2s, 5.4ms\n",
      "image 81/105 /home/fatninja/Desktop/defectDetection/crack_detection-1/test/images/SampleV2_2_mp4-99_jpg.rf.9754153fd79f61e6482b827fd8d1aaf1.jpg: 640x640 1 0, 4 1s, 4 2s, 6.2ms\n",
      "image 82/105 /home/fatninja/Desktop/defectDetection/crack_detection-1/test/images/SampleV3_1_mp4-11_jpg.rf.edc98f049b26866f56d42dc65682916c.jpg: 640x640 2 1s, 4 2s, 6.2ms\n",
      "image 83/105 /home/fatninja/Desktop/defectDetection/crack_detection-1/test/images/SampleV3_1_mp4-12_jpg.rf.a51c164f25b630ed2c179c037047133c.jpg: 640x640 2 0s, 2 1s, 3 2s, 5.5ms\n",
      "image 84/105 /home/fatninja/Desktop/defectDetection/crack_detection-1/test/images/SampleV3_1_mp4-23_jpg.rf.25b6f6479ff0a41d10b5d2c68d9fa5dc.jpg: 640x640 2 0s, 2 1s, 4 2s, 5.6ms\n",
      "image 85/105 /home/fatninja/Desktop/defectDetection/crack_detection-1/test/images/SampleV3_1_mp4-27_jpg.rf.9e0a23961e91aedaa0b5c2c34a82af43.jpg: 640x640 1 1, 1 2, 6.0ms\n",
      "image 86/105 /home/fatninja/Desktop/defectDetection/crack_detection-1/test/images/SampleV3_1_mp4-29_jpg.rf.2b2b3ee7fc0d40ea5e6809f24e94a4cd.jpg: 640x640 2 1s, 5 2s, 6.4ms\n",
      "image 87/105 /home/fatninja/Desktop/defectDetection/crack_detection-1/test/images/SampleV3_1_mp4-35_jpg.rf.75b61bd6adf5d2acd5fecd818abd3bc6.jpg: 640x640 3 0s, 2 1s, 2 2s, 6.4ms\n",
      "image 88/105 /home/fatninja/Desktop/defectDetection/crack_detection-1/test/images/SampleV3_1_mp4-39_jpg.rf.5405b7cd9ad06753ca40da9113d48e55.jpg: 640x640 3 1s, 3 2s, 5.8ms\n",
      "image 89/105 /home/fatninja/Desktop/defectDetection/crack_detection-1/test/images/SampleV3_1_mp4-41_jpg.rf.aa594b6ef5fd1d4f3bd9359e2fd13262.jpg: 640x640 1 0, 3 1s, 3 2s, 5.6ms\n",
      "image 90/105 /home/fatninja/Desktop/defectDetection/crack_detection-1/test/images/SampleV3_1_mp4-43_jpg.rf.756d8c579ba71fafd628bbb63d6900f7.jpg: 640x640 1 1, 2 2s, 5.5ms\n",
      "image 91/105 /home/fatninja/Desktop/defectDetection/crack_detection-1/test/images/SampleV3_1_mp4-43_jpg.rf.8043dfa1c52473056b742e3e1de82c36.jpg: 640x640 1 1, 2 2s, 5.6ms\n",
      "image 92/105 /home/fatninja/Desktop/defectDetection/crack_detection-1/test/images/SampleV3_1_mp4-44_jpg.rf.7a705237adc8735284d643e8c260622c.jpg: 640x640 1 0, 2 1s, 2 2s, 6.0ms\n",
      "image 93/105 /home/fatninja/Desktop/defectDetection/crack_detection-1/test/images/SampleV3_2_mp4-0_jpg.rf.721c559cb5d9bd0bfc63e985682520bf.jpg: 640x640 6 1s, 6 2s, 6.2ms\n",
      "image 94/105 /home/fatninja/Desktop/defectDetection/crack_detection-1/test/images/SampleV3_2_mp4-10_jpg.rf.16bf8a09f59f39bce81d392ad96f5ec1.jpg: 640x640 5 0s, 1 1, 1 2, 5.9ms\n",
      "image 95/105 /home/fatninja/Desktop/defectDetection/crack_detection-1/test/images/SampleV3_2_mp4-12_jpg.rf.12ce6c130d452251eae073a14c2548c8.jpg: 640x640 1 1, 1 2, 5.8ms\n",
      "image 96/105 /home/fatninja/Desktop/defectDetection/crack_detection-1/test/images/SampleV3_2_mp4-23_jpg.rf.e3c4c52af67caff978e29bb1103fe2b5.jpg: 640x640 1 0, 2 1s, 2 2s, 5.5ms\n",
      "image 97/105 /home/fatninja/Desktop/defectDetection/crack_detection-1/test/images/SampleV3_2_mp4-28_jpg.rf.3fc4e3d7ec005c831f47e3cdd93f0eca.jpg: 640x640 1 0, 4 1s, 4 2s, 6.0ms\n",
      "image 98/105 /home/fatninja/Desktop/defectDetection/crack_detection-1/test/images/SampleV3_2_mp4-30_jpg.rf.0c5e8843747947e5351574196d20ef6e.jpg: 640x640 1 0, 2 1s, 2 2s, 6.0ms\n",
      "image 99/105 /home/fatninja/Desktop/defectDetection/crack_detection-1/test/images/SampleV3_2_mp4-4_jpg.rf.0a61390dc38e8dbf4a6a19b88d0bcfb0.jpg: 640x640 3 0s, 1 1, 2 2s, 6.0ms\n",
      "image 100/105 /home/fatninja/Desktop/defectDetection/crack_detection-1/test/images/SampleV3_2_mp4-4_jpg.rf.a038939b21caa43ecb32ae9e57d9fa97.jpg: 640x640 4 0s, 1 1, 2 2s, 8.0ms\n",
      "image 101/105 /home/fatninja/Desktop/defectDetection/crack_detection-1/test/images/SampleV3_2_mp4-7_jpg.rf.e75ce88449055448e95b213dc819edfa.jpg: 640x640 5 0s, 1 1, 1 2, 6.2ms\n",
      "image 102/105 /home/fatninja/Desktop/defectDetection/crack_detection-1/test/images/SampleV3_2_mp4-8_jpg.rf.50cf477c49ab86045876985db6fc0a76.jpg: 640x640 3 0s, 2 1s, 2 2s, 6.4ms\n",
      "image 103/105 /home/fatninja/Desktop/defectDetection/crack_detection-1/test/images/SampleV3_2_mp4-8_jpg.rf.9b1454a21d4f76b33f1b9934dfb1322d.jpg: 640x640 2 0s, 2 1s, 2 2s, 5.4ms\n",
      "image 104/105 /home/fatninja/Desktop/defectDetection/crack_detection-1/test/images/a1ebea25-091b-4200-a1c7-61767cd81dd9_jpg.rf.c729e264739b6cf8c8863ccfa87e513e.jpg: 640x640 1 1, 1 2, 1 3, 5.5ms\n",
      "image 105/105 /home/fatninja/Desktop/defectDetection/crack_detection-1/test/images/dcabbee9-283f-4c47-a1ad-a09bd51c1fa1_jpg.rf.90c08437b440615add7c86e24761ece9.jpg: 640x640 1 1, 1 2, 1 3, 6.8ms\n",
      "Speed: 1.1ms preprocess, 5.8ms inference, 4.3ms postprocess per image at shape (1, 3, 640, 640)\n",
      "Results saved to \u001b[1mruns/detect/predict2\u001b[0m\n",
      "💡 Learn more at https://docs.ultralytics.com/modes/predict\n"
     ]
    }
   ],
   "source": [
    "!yolo predict model=/home/fatninja/Desktop/defectDetection/runs/detect/train/weights/best.pt source=\"/home/fatninja/Desktop/defectDetection/crack_detection-1/test/images\""
   ]
  },
  {
   "cell_type": "code",
   "execution_count": 57,
   "metadata": {},
   "outputs": [
    {
     "name": "stdout",
     "output_type": "stream",
     "text": [
      "1920.0 3200.0 3200.0 1920.0\n"
     ]
    }
   ],
   "source": [
    "def cor(cx,cy,w,h):\n",
    "    x1=cx-(w/2)\n",
    "    y1=cy+(h/2)\n",
    "    x2=cx+(w/2)\n",
    "    y2=cy-(h/2)\n",
    "    mul=640\n",
    "    return x1*mul,y1*mul,x2*mul,y2*mul\n",
    "x1,y1,x2,y2=cor(4,4,2,2)\n",
    "print(x1,y1,x2,y2)"
   ]
  },
  {
   "cell_type": "code",
   "execution_count": 60,
   "metadata": {},
   "outputs": [
    {
     "data": {
      "text/plain": [
       "True"
      ]
     },
     "execution_count": 60,
     "metadata": {},
     "output_type": "execute_result"
    }
   ],
   "source": [
    "import cv2\n",
    "\n",
    "img=cv2.imread(\"/home/fatninja/Desktop/defectDetection/crack_detection-1/test/images/2c728a0d-fbba-49b1-9d5f-6de47aa7336c_jpg.rf.1c4bd9b56ecdbde25a68bc99e4928f77.jpg\")\n",
    "\n",
    "b1x1,b1y1,b1x2,b1y2=cor(0.621875,0.4765625,0.0546875,0.5421875)\n",
    "b2x1,b2y1,b2x2,b2y2=cor(0.61328125,0.50546875,0.1765625,0.9890625)\n",
    "b3x1,b3y1,b3x2,b3y2=cor(0.5484375,0.50546875,0.89375,0.9890625)\n",
    "\n",
    "cv2.rectangle(img,(round(b1x1),round(b1y1)),(round(b1x2),round(b1y2)),(255,255,0),thickness=2)\n",
    "cv2.rectangle(img,(round(b2x1),round(b2y1)),(round(b2x2),round(b2y2)),(255,255,0),thickness=2)\n",
    "cv2.rectangle(img,(round(b3x1),round(b3y1)),(round(b3x2),round(b3y2)),(255,255,0),thickness=2)\n",
    "\n",
    "cv2.putText(img,'3',(round(b1x1),round(b1y1)-10),cv2.FONT_HERSHEY_COMPLEX,0.9,(36,255,12),1)\n",
    "cv2.putText(img,'2',(round(b2x1),round(b2y1)-10),cv2.FONT_HERSHEY_COMPLEX,0.9,(36,255,12),1)\n",
    "cv2.putText(img,'1',(round(b3x1),round(b3y1)-10),cv2.FONT_HERSHEY_COMPLEX,0.9,(36,255,12),1)\n",
    "cv2.imwrite(\"img.jpeg\",img)\n",
    "\n",
    "#cv2.imshow(\"i\",img)\n",
    "\n"
   ]
  },
  {
   "cell_type": "markdown",
   "metadata": {},
   "source": [
    "mAP\n"
   ]
  },
  {
   "cell_type": "code",
   "execution_count": 235,
   "metadata": {},
   "outputs": [
    {
     "name": "stdout",
     "output_type": "stream",
     "text": [
      "\n",
      "image 1/1 /home/fatninja/Desktop/defectDetection/crack_detection-1/test/images/35717189-6434-47e5-b477-33f063de8b4f_jpg.rf.d887a7b803c762655fb443d6c1f9c3e9.jpg: 640x640 1 1, 1 2, 1 3, 7.0ms\n",
      "Speed: 1.2ms preprocess, 7.0ms inference, 1.3ms postprocess per image at shape (1, 3, 640, 640)\n"
     ]
    }
   ],
   "source": [
    "\n",
    "model=YOLO(\"/home/fatninja/Desktop/defectDetection/runs/detect/train/weights/best.pt\")\n",
    "detection=model(\"/home/fatninja/Desktop/defectDetection/crack_detection-1/test/images/35717189-6434-47e5-b477-33f063de8b4f_jpg.rf.d887a7b803c762655fb443d6c1f9c3e9.jpg\")"
   ]
  },
  {
   "cell_type": "code",
   "execution_count": 236,
   "metadata": {},
   "outputs": [],
   "source": [
    "#detection[0].boxes.xyxy.tolist()\n",
    "box=detection[0].boxes.xyxy.tolist()\n",
    "classes=detection[0].boxes.cls.tolist()\n",
    "name=detection[0].names\n",
    "confidence=detection[0].boxes.conf.tolist()\n"
   ]
  },
  {
   "cell_type": "code",
   "execution_count": 237,
   "metadata": {},
   "outputs": [
    {
     "name": "stdout",
     "output_type": "stream",
     "text": [
      "[[356.9111328125, 0.0, 473.3182373046875, 640.0], [402.60650634765625, 160.29588317871094, 435.11138916015625, 483.913818359375], [97.3345947265625, 0.0, 639.9786376953125, 622.629638671875]]\n",
      "[1.0, 3.0, 2.0]\n",
      "{0: '0', 1: '1', 2: '2', 3: '3'}\n",
      "[0.9240199327468872, 0.910415530204773, 0.8512342572212219]\n"
     ]
    }
   ],
   "source": [
    "print(box)\n",
    "print(classes)\n",
    "print(name)\n",
    "print(confidence)"
   ]
  },
  {
   "cell_type": "code",
   "execution_count": 238,
   "metadata": {},
   "outputs": [],
   "source": [
    "true_val={}\n",
    "predicted_val={}"
   ]
  },
  {
   "cell_type": "code",
   "execution_count": 239,
   "metadata": {},
   "outputs": [
    {
     "name": "stdout",
     "output_type": "stream",
     "text": [
      "[[3.0, 0.621875, 0.4765625, 0.0546875, 0.5421875], [1.0, 0.61328125, 0.50546875, 0.1765625, 0.9890625], [2.0, 0.5484375, 0.50546875, 0.89375, 0.9890625]]\n"
     ]
    }
   ],
   "source": [
    "file_path=\"/home/fatninja/Desktop/defectDetection/crack_detection-1/test/labels/2c728a0d-fbba-49b1-9d5f-6de47aa7336c_jpg.rf.1c4bd9b56ecdbde25a68bc99e4928f77.txt\"\n",
    "\n",
    "with open(file_path,'r') as file:\n",
    "    lines=file.readlines()\n",
    "\n",
    "data_2d_list= [list(map(float,line.split())) for line in lines]\n",
    "print(data_2d_list)"
   ]
  },
  {
   "cell_type": "code",
   "execution_count": 257,
   "metadata": {},
   "outputs": [],
   "source": [
    "import glob\n",
    "images=glob.glob('/home/fatninja/Desktop/defectDetection/crack_detection-1/test/images/*.jpg')\n",
    "#for image in images:\n",
    " "
   ]
  },
  {
   "cell_type": "markdown",
   "metadata": {},
   "source": [
    "mAP2"
   ]
  },
  {
   "cell_type": "code",
   "execution_count": 2,
   "metadata": {},
   "outputs": [
    {
     "name": "stdout",
     "output_type": "stream",
     "text": [
      "\n",
      "image 1/1 /home/fatninja/Desktop/defectDetection/crack_detection-1/test/images/SampleV1_1_mp4-46_jpg.rf.d174bccb986e3e01c69e1b7d5bd82b37.jpg: 640x640 6 0s, 4 1s, 5 2s, 5.6ms\n",
      "Speed: 2.6ms preprocess, 5.6ms inference, 335.4ms postprocess per image at shape (1, 3, 640, 640)\n",
      "[[2.0, 0.65625, 0.28046875, 0.6875, 0.2359375], [2.0, 0.66796875, 0.646875, 0.6640625, 0.240625], [2.0, 0.09296875, 0.67734375, 0.1859375, 0.2234375], [2.0, 0.05703125, 0.29921875, 0.1140625, 0.1953125], [1.0, 0.66796875, 0.28671875, 0.659375, 0.1], [1.0, 0.6703125, 0.646875, 0.659375, 0.05625], [0.0, 0.08359375, 0.66484375, 0.1671875, 0.04375], [0.0, 0.05, 0.29140625, 0.1, 0.0453125], [0.0, 0.81796875, 0.6109375, 0.171875, 0.1140625], [0.0, 0.8109375, 0.978125, 0.1296875, 0.04375], [0.0, 0.6703125, 0.2859375, 0.659375, 0.13125], [0.0, 0.60234375, 0.61875, 0.1328125, 0.05]]\n"
     ]
    }
   ],
   "source": [
    "import os\n",
    "from ultralytics import YOLO\n",
    "image=\"/home/fatninja/Desktop/defectDetection/crack_detection-1/test/images/SampleV1_1_mp4-46_jpg.rf.d174bccb986e3e01c69e1b7d5bd82b37.jpg\"\n",
    "#loading and detection\n",
    "model=YOLO(\"runs/detect/train/weights/best.pt\")\n",
    "detection=model(image)\n",
    "\n",
    "#detection parameters\n",
    "box=detection[0].boxes.xywh#mAP.tolist()\n",
    "classes=detection[0].boxes.cls.tolist()\n",
    "name=detection[0].names\n",
    "confidence=detection[0].boxes.conf.tolist()\n",
    "\n",
    "\n",
    "#text file config\n",
    "file_name=os.path.splitext(os.path.basename(image))\n",
    "file_name=\"/home/fatninja/Desktop/defectDetection/crack_detection-1/test/labels/\"+str(file_name[0])+\".txt\"\n",
    "\n",
    "with open(file_name,'r') as file:\n",
    "    lines=file.readlines()\n",
    "\n",
    "labels=[list(map(float,line.split())) for line in lines]\n",
    "print(labels)\n",
    "\n"
   ]
  },
  {
   "cell_type": "code",
   "execution_count": 3,
   "metadata": {},
   "outputs": [],
   "source": [
    "def calculate_iou(box1, box2):\n",
    "    x1, y1, w1, h1 = box1\n",
    "    x2, y2, w2, h2 = box2\n",
    "\n",
    "    # Calculate coordinates of bounding boxes\n",
    "    box1_coords = (x1 - w1 / 2, y1 - h1 / 2, x1 + w1 / 2, y1 + h1 / 2)\n",
    "    box2_coords = (x2 - w2 / 2, y2 - h2 / 2, x2 + w2 / 2, y2 + h2 / 2)\n",
    "\n",
    "    # Calculate intersection coordinates\n",
    "    intersection_x_min = max(box1_coords[0], box2_coords[0])\n",
    "    intersection_y_min = max(box1_coords[1], box2_coords[1])\n",
    "    intersection_x_max = min(box1_coords[2], box2_coords[2])\n",
    "    intersection_y_max = min(box1_coords[3], box2_coords[3])\n",
    "\n",
    "    # Calculate area of intersection\n",
    "    intersection_area = max(0, intersection_x_max - intersection_x_min) * max(0, intersection_y_max - intersection_y_min)\n",
    "\n",
    "    # Calculate area of union\n",
    "    area_box1 = w1 * h1\n",
    "    area_box2 = w2 * h2\n",
    "    union_area = area_box1 + area_box2 - intersection_area\n",
    "\n",
    "    # Calculate IoU\n",
    "    iou = intersection_area / union_area if union_area > 0 else 0\n",
    "\n",
    "    return iou\n",
    "\n"
   ]
  },
  {
   "cell_type": "code",
   "execution_count": 4,
   "metadata": {},
   "outputs": [
    {
     "name": "stdout",
     "output_type": "stream",
     "text": [
      "0.36363636363636365 0.8\n"
     ]
    }
   ],
   "source": [
    "#precesion and recall\n",
    "tp=0\n",
    "fp=0\n",
    "fn=0\n",
    "l=[]\n",
    "ind=[]\n",
    "i1=0\n",
    "for i in range(len(classes)):\n",
    "   \n",
    "    for j in range(len(labels)):\n",
    "         \n",
    "        \n",
    "         if(classes[i]==labels[j][0]):\n",
    "            i1+=1\n",
    "            \n",
    "            \n",
    "            if(labels[j] not in ind):\n",
    "                ind.append(labels[j])\n",
    "                box1=box[i]\n",
    "                box2=[element* 640 for element in labels[j][1:]]\n",
    "                \n",
    "                \n",
    "                area=calculate_iou(box1,box2)\n",
    "                \n",
    "                \n",
    "                if(confidence[i]>0.5 and area>0.5):\n",
    "                    tp+=1\n",
    "                    l.append(1)\n",
    "                    break\n",
    "\n",
    "                elif(confidence[i]>0.5 and area<0.5):\n",
    "                    fp+=1\n",
    "                    l.append(1)\n",
    "                    break\n",
    "            \n",
    "\n",
    "    fn=len(labels)-len(l)\n",
    "\n",
    "   \n",
    "preceision=tp/(tp+fp)\n",
    "recall=tp/(tp+fn)\n",
    "print(preceision,recall)"
   ]
  },
  {
   "cell_type": "code",
   "execution_count": 96,
   "metadata": {},
   "outputs": [
    {
     "name": "stdout",
     "output_type": "stream",
     "text": [
      "\n",
      "image 1/1 /home/fatninja/Desktop/defectDetection/crack_detection-1/test/images/SampleV3_2_mp4-8_jpg.rf.50cf477c49ab86045876985db6fc0a76.jpg: 640x640 3 0s, 2 1s, 2 2s, 6.4ms\n",
      "Speed: 1.0ms preprocess, 6.4ms inference, 1.2ms postprocess per image at shape (1, 3, 640, 640)\n",
      "\n",
      "image 1/1 /home/fatninja/Desktop/defectDetection/crack_detection-1/test/images/SampleV3_2_mp4-4_jpg.rf.0a61390dc38e8dbf4a6a19b88d0bcfb0.jpg: 640x640 3 0s, 1 1, 2 2s, 5.9ms\n",
      "Speed: 1.2ms preprocess, 5.9ms inference, 1.1ms postprocess per image at shape (1, 3, 640, 640)\n",
      "\n",
      "image 1/1 /home/fatninja/Desktop/defectDetection/crack_detection-1/test/images/SampleV1_1_mp4-10_jpg.rf.bf58e6f9618e9baafb26435319cbaccf.jpg: 640x640 2 1s, 2 2s, 7.6ms\n",
      "Speed: 1.0ms preprocess, 7.6ms inference, 1.1ms postprocess per image at shape (1, 3, 640, 640)\n",
      "\n",
      "image 1/1 /home/fatninja/Desktop/defectDetection/crack_detection-1/test/images/SampleV3_2_mp4-4_jpg.rf.a038939b21caa43ecb32ae9e57d9fa97.jpg: 640x640 4 0s, 1 1, 2 2s, 5.9ms\n",
      "Speed: 1.0ms preprocess, 5.9ms inference, 1.2ms postprocess per image at shape (1, 3, 640, 640)\n",
      "\n",
      "image 1/1 /home/fatninja/Desktop/defectDetection/crack_detection-1/test/images/SampleV3_1_mp4-39_jpg.rf.5405b7cd9ad06753ca40da9113d48e55.jpg: 640x640 3 1s, 3 2s, 6.3ms\n",
      "Speed: 1.1ms preprocess, 6.3ms inference, 1.0ms postprocess per image at shape (1, 3, 640, 640)\n",
      "\n",
      "image 1/1 /home/fatninja/Desktop/defectDetection/crack_detection-1/test/images/SampleV1_1_mp4-55_jpg.rf.91307c9c2c7c5dccf416a1926fc81224.jpg: 640x640 2 1s, 3 2s, 6.3ms\n",
      "Speed: 1.1ms preprocess, 6.3ms inference, 1.0ms postprocess per image at shape (1, 3, 640, 640)\n",
      "\n",
      "image 1/1 /home/fatninja/Desktop/defectDetection/crack_detection-1/test/images/SampleV3_2_mp4-28_jpg.rf.3fc4e3d7ec005c831f47e3cdd93f0eca.jpg: 640x640 1 0, 4 1s, 4 2s, 6.4ms\n",
      "Speed: 1.1ms preprocess, 6.4ms inference, 1.1ms postprocess per image at shape (1, 3, 640, 640)\n",
      "\n",
      "image 1/1 /home/fatninja/Desktop/defectDetection/crack_detection-1/test/images/SampleV2_2_mp4-65_jpg.rf.74badf068f7a48dcf5d1ceaf10f06224.jpg: 640x640 1 0, 4 1s, 5 2s, 5.9ms\n",
      "Speed: 1.1ms preprocess, 5.9ms inference, 1.0ms postprocess per image at shape (1, 3, 640, 640)\n",
      "\n",
      "image 1/1 /home/fatninja/Desktop/defectDetection/crack_detection-1/test/images/SampleV1_2_mp4-28_jpg.rf.f6206abf767d28bd38c1cd0bcf429a26.jpg: 640x640 1 0, 4 1s, 3 2s, 6.0ms\n",
      "Speed: 0.9ms preprocess, 6.0ms inference, 1.2ms postprocess per image at shape (1, 3, 640, 640)\n",
      "\n",
      "image 1/1 /home/fatninja/Desktop/defectDetection/crack_detection-1/test/images/SampleV2_1_mp4-62_jpg.rf.4a8f823559b4841f3dd0f148417ebe84.jpg: 640x640 1 0, 3 1s, 4 2s, 7.4ms\n",
      "Speed: 1.1ms preprocess, 7.4ms inference, 1.1ms postprocess per image at shape (1, 3, 640, 640)\n",
      "\n",
      "image 1/1 /home/fatninja/Desktop/defectDetection/crack_detection-1/test/images/SampleV1_1_mp4-44_jpg.rf.870824f74d2c23dce13a0abf24e1d074.jpg: 640x640 3 0s, 4 1s, 6 2s, 5.6ms\n",
      "Speed: 1.0ms preprocess, 5.6ms inference, 1.0ms postprocess per image at shape (1, 3, 640, 640)\n",
      "\n",
      "image 1/1 /home/fatninja/Desktop/defectDetection/crack_detection-1/test/images/SampleV3_1_mp4-29_jpg.rf.2b2b3ee7fc0d40ea5e6809f24e94a4cd.jpg: 640x640 2 1s, 5 2s, 7.6ms\n",
      "Speed: 1.6ms preprocess, 7.6ms inference, 1.2ms postprocess per image at shape (1, 3, 640, 640)\n",
      "\n",
      "image 1/1 /home/fatninja/Desktop/defectDetection/crack_detection-1/test/images/SampleV2_1_mp4-77_jpg.rf.b0668ddda04f3036664ea09f4ce2b477.jpg: 640x640 1 0, 4 1s, 4 2s, 6.5ms\n",
      "Speed: 1.1ms preprocess, 6.5ms inference, 1.2ms postprocess per image at shape (1, 3, 640, 640)\n",
      "\n",
      "image 1/1 /home/fatninja/Desktop/defectDetection/crack_detection-1/test/images/SampleV3_1_mp4-11_jpg.rf.edc98f049b26866f56d42dc65682916c.jpg: 640x640 2 1s, 4 2s, 5.9ms\n",
      "Speed: 1.0ms preprocess, 5.9ms inference, 1.0ms postprocess per image at shape (1, 3, 640, 640)\n",
      "\n",
      "image 1/1 /home/fatninja/Desktop/defectDetection/crack_detection-1/test/images/SampleV2_2_mp4-60_jpg.rf.79999b72b11e2ac87ccabb69e1dba2ce.jpg: 640x640 4 0s, 2 1s, 2 2s, 6.1ms\n",
      "Speed: 1.0ms preprocess, 6.1ms inference, 1.3ms postprocess per image at shape (1, 3, 640, 640)\n",
      "\n",
      "image 1/1 /home/fatninja/Desktop/defectDetection/crack_detection-1/test/images/SampleV2_2_mp4-26_jpg.rf.c97fa38e1bf949e4e1f6fa4309fcb93a.jpg: 640x640 1 0, 3 1s, 3 2s, 6.5ms\n",
      "Speed: 1.1ms preprocess, 6.5ms inference, 1.2ms postprocess per image at shape (1, 3, 640, 640)\n",
      "\n",
      "image 1/1 /home/fatninja/Desktop/defectDetection/crack_detection-1/test/images/SampleV2_1_mp4-61_jpg.rf.e4423ff890873749b7fa158b8b9a0131.jpg: 640x640 3 1s, 3 2s, 6.0ms\n",
      "Speed: 1.2ms preprocess, 6.0ms inference, 1.0ms postprocess per image at shape (1, 3, 640, 640)\n",
      "\n",
      "image 1/1 /home/fatninja/Desktop/defectDetection/crack_detection-1/test/images/SampleV1_1_mp4-35_jpg.rf.efa0486cfb24384dc7ae8709cf840b27.jpg: 640x640 1 0, 1 1, 1 2, 5.8ms\n",
      "Speed: 1.0ms preprocess, 5.8ms inference, 1.0ms postprocess per image at shape (1, 3, 640, 640)\n",
      "\n",
      "image 1/1 /home/fatninja/Desktop/defectDetection/crack_detection-1/test/images/SampleV2_2_mp4-83_jpg.rf.cab554de832f8bfce880ff949d13d3c4.jpg: 640x640 1 0, 6 1s, 4 2s, 5.6ms\n",
      "Speed: 1.0ms preprocess, 5.6ms inference, 1.0ms postprocess per image at shape (1, 3, 640, 640)\n",
      "\n",
      "image 1/1 /home/fatninja/Desktop/defectDetection/crack_detection-1/test/images/SampleV2_2_mp4-11_jpg.rf.d2ab0ba4e816b3efb9601564f743e48b.jpg: 640x640 2 0s, 7 1s, 7 2s, 6.6ms\n",
      "Speed: 1.6ms preprocess, 6.6ms inference, 1.1ms postprocess per image at shape (1, 3, 640, 640)\n",
      "\n",
      "image 1/1 /home/fatninja/Desktop/defectDetection/crack_detection-1/test/images/5a0938ca-dd2f-4c29-8371-eb6c7c0da4a8_jpg.rf.9ee40f229115214187409fab73f3b351.jpg: 640x640 1 1, 1 2, 1 3, 5.9ms\n",
      "Speed: 1.0ms preprocess, 5.9ms inference, 1.0ms postprocess per image at shape (1, 3, 640, 640)\n",
      "\n",
      "image 1/1 /home/fatninja/Desktop/defectDetection/crack_detection-1/test/images/SampleV1_1_mp4-46_jpg.rf.d174bccb986e3e01c69e1b7d5bd82b37.jpg: 640x640 6 0s, 4 1s, 5 2s, 6.3ms\n",
      "Speed: 1.1ms preprocess, 6.3ms inference, 1.1ms postprocess per image at shape (1, 3, 640, 640)\n",
      "\n",
      "image 1/1 /home/fatninja/Desktop/defectDetection/crack_detection-1/test/images/35717189-6434-47e5-b477-33f063de8b4f_jpg.rf.d887a7b803c762655fb443d6c1f9c3e9.jpg: 640x640 1 1, 1 2, 1 3, 6.0ms\n",
      "Speed: 1.3ms preprocess, 6.0ms inference, 1.0ms postprocess per image at shape (1, 3, 640, 640)\n",
      "\n",
      "image 1/1 /home/fatninja/Desktop/defectDetection/crack_detection-1/test/images/SampleV1_1_mp4-58_jpg.rf.d703c45c4bdeb341ead15f1371522fad.jpg: 640x640 1 0, 3 1s, 4 2s, 6.7ms\n",
      "Speed: 1.0ms preprocess, 6.7ms inference, 1.3ms postprocess per image at shape (1, 3, 640, 640)\n",
      "\n",
      "image 1/1 /home/fatninja/Desktop/defectDetection/crack_detection-1/test/images/SampleV2_1_mp4-51_jpg.rf.d6b49bf9e826965caf0297b904c8fee0.jpg: 640x640 2 1s, 2 2s, 6.2ms\n",
      "Speed: 1.3ms preprocess, 6.2ms inference, 1.1ms postprocess per image at shape (1, 3, 640, 640)\n",
      "\n",
      "image 1/1 /home/fatninja/Desktop/defectDetection/crack_detection-1/test/images/SampleV1_2_mp4-22_jpg.rf.7772b9b7a1fa8069d243b59d1331cacf.jpg: 640x640 3 0s, 1 1, 1 2, 8.4ms\n",
      "Speed: 1.0ms preprocess, 8.4ms inference, 1.5ms postprocess per image at shape (1, 3, 640, 640)\n",
      "\n",
      "image 1/1 /home/fatninja/Desktop/defectDetection/crack_detection-1/test/images/SampleV1_1_mp4-44_jpg.rf.48c46e3368542a033fefa1a4a112b31e.jpg: 640x640 4 0s, 4 1s, 5 2s, 7.0ms\n",
      "Speed: 1.4ms preprocess, 7.0ms inference, 1.2ms postprocess per image at shape (1, 3, 640, 640)\n",
      "\n",
      "image 1/1 /home/fatninja/Desktop/defectDetection/crack_detection-1/test/images/SampleV1_1_mp4-30_jpg.rf.bdde5e0b12250ab33e68f5915e973516.jpg: 640x640 1 1, 1 2, 6.3ms\n",
      "Speed: 0.9ms preprocess, 6.3ms inference, 1.1ms postprocess per image at shape (1, 3, 640, 640)\n",
      "\n",
      "image 1/1 /home/fatninja/Desktop/defectDetection/crack_detection-1/test/images/SampleV2_2_mp4-36_jpg.rf.92168a74592d4280c39d3ed5933d4b3d.jpg: 640x640 1 0, 3 1s, 6 2s, 6.2ms\n",
      "Speed: 1.1ms preprocess, 6.2ms inference, 1.0ms postprocess per image at shape (1, 3, 640, 640)\n",
      "\n",
      "image 1/1 /home/fatninja/Desktop/defectDetection/crack_detection-1/test/images/SampleV2_2_mp4-8_jpg.rf.bb92563cfdeb8ef7566489974497ec68.jpg: 640x640 3 0s, 10 1s, 10 2s, 5.8ms\n",
      "Speed: 1.1ms preprocess, 5.8ms inference, 1.0ms postprocess per image at shape (1, 3, 640, 640)\n",
      "\n",
      "image 1/1 /home/fatninja/Desktop/defectDetection/crack_detection-1/test/images/650d014d-576e-42b3-814d-08bd298f8f9f_jpg.rf.a8972c56cd24ef5726fae344131649ec.jpg: 640x640 1 1, 1 2, 1 3, 6.8ms\n",
      "Speed: 1.0ms preprocess, 6.8ms inference, 1.0ms postprocess per image at shape (1, 3, 640, 640)\n",
      "\n",
      "image 1/1 /home/fatninja/Desktop/defectDetection/crack_detection-1/test/images/SampleV3_2_mp4-12_jpg.rf.12ce6c130d452251eae073a14c2548c8.jpg: 640x640 1 1, 1 2, 9.1ms\n",
      "Speed: 1.8ms preprocess, 9.1ms inference, 1.5ms postprocess per image at shape (1, 3, 640, 640)\n",
      "\n",
      "image 1/1 /home/fatninja/Desktop/defectDetection/crack_detection-1/test/images/SampleV3_1_mp4-23_jpg.rf.25b6f6479ff0a41d10b5d2c68d9fa5dc.jpg: 640x640 2 0s, 2 1s, 4 2s, 6.2ms\n",
      "Speed: 1.1ms preprocess, 6.2ms inference, 1.0ms postprocess per image at shape (1, 3, 640, 640)\n",
      "\n",
      "image 1/1 /home/fatninja/Desktop/defectDetection/crack_detection-1/test/images/SampleV2_2_mp4-11_jpg.rf.c5feb2397d306f865747e74fa4745db9.jpg: 640x640 3 0s, 7 1s, 7 2s, 6.0ms\n",
      "Speed: 1.2ms preprocess, 6.0ms inference, 1.0ms postprocess per image at shape (1, 3, 640, 640)\n",
      "\n",
      "image 1/1 /home/fatninja/Desktop/defectDetection/crack_detection-1/test/images/SampleV3_1_mp4-43_jpg.rf.8043dfa1c52473056b742e3e1de82c36.jpg: 640x640 1 1, 2 2s, 6.0ms\n",
      "Speed: 0.9ms preprocess, 6.0ms inference, 1.3ms postprocess per image at shape (1, 3, 640, 640)\n",
      "\n",
      "image 1/1 /home/fatninja/Desktop/defectDetection/crack_detection-1/test/images/SampleV2_1_mp4-30_jpg.rf.3a28d198121ee54ec358719dfcfdac5b.jpg: 640x640 2 0s, 4 1s, 4 2s, 7.0ms\n",
      "Speed: 1.0ms preprocess, 7.0ms inference, 1.0ms postprocess per image at shape (1, 3, 640, 640)\n",
      "\n",
      "image 1/1 /home/fatninja/Desktop/defectDetection/crack_detection-1/test/images/SampleV2_2_mp4-19_jpg.rf.e919b8b5bedeb9f6917034ed3cc383ff.jpg: 640x640 4 1s, 5 2s, 5.9ms\n",
      "Speed: 0.9ms preprocess, 5.9ms inference, 1.2ms postprocess per image at shape (1, 3, 640, 640)\n",
      "\n",
      "image 1/1 /home/fatninja/Desktop/defectDetection/crack_detection-1/test/images/SampleV2_2_mp4-58_jpg.rf.da155b9eba1267d50672f78f4f0faf3f.jpg: 640x640 1 0, 2 1s, 2 2s, 6.2ms\n",
      "Speed: 1.0ms preprocess, 6.2ms inference, 1.0ms postprocess per image at shape (1, 3, 640, 640)\n",
      "\n",
      "image 1/1 /home/fatninja/Desktop/defectDetection/crack_detection-1/test/images/SampleV3_1_mp4-35_jpg.rf.75b61bd6adf5d2acd5fecd818abd3bc6.jpg: 640x640 3 0s, 2 1s, 2 2s, 6.3ms\n",
      "Speed: 1.1ms preprocess, 6.3ms inference, 1.1ms postprocess per image at shape (1, 3, 640, 640)\n",
      "\n",
      "image 1/1 /home/fatninja/Desktop/defectDetection/crack_detection-1/test/images/SampleV1_2_mp4-4_jpg.rf.820543635eadffd6e230eec63c333587.jpg: 640x640 1 0, 2 1s, 2 2s, 5.8ms\n",
      "Speed: 1.0ms preprocess, 5.8ms inference, 1.0ms postprocess per image at shape (1, 3, 640, 640)\n",
      "\n",
      "image 1/1 /home/fatninja/Desktop/defectDetection/crack_detection-1/test/images/SampleV1_1_mp4-65_jpg.rf.ef5bd9b9119a6617a857941944c4e7b8.jpg: 640x640 2 0s, 13 1s, 11 2s, 5.5ms\n",
      "Speed: 0.9ms preprocess, 5.5ms inference, 1.0ms postprocess per image at shape (1, 3, 640, 640)\n",
      "\n",
      "image 1/1 /home/fatninja/Desktop/defectDetection/crack_detection-1/test/images/SampleV2_1_mp4-37_jpg.rf.096f75c0240db243a1739671efb2ae4f.jpg: 640x640 1 0, 2 1s, 4 2s, 6.9ms\n",
      "Speed: 1.2ms preprocess, 6.9ms inference, 1.0ms postprocess per image at shape (1, 3, 640, 640)\n",
      "\n",
      "image 1/1 /home/fatninja/Desktop/defectDetection/crack_detection-1/test/images/SampleV3_2_mp4-0_jpg.rf.721c559cb5d9bd0bfc63e985682520bf.jpg: 640x640 6 1s, 6 2s, 5.8ms\n",
      "Speed: 1.2ms preprocess, 5.8ms inference, 1.1ms postprocess per image at shape (1, 3, 640, 640)\n",
      "\n",
      "image 1/1 /home/fatninja/Desktop/defectDetection/crack_detection-1/test/images/SampleV2_2_mp4-63_jpg.rf.2e1c576250ef82b105e3314d1a007565.jpg: 640x640 5 0s, 7 1s, 5 2s, 6.8ms\n",
      "Speed: 1.0ms preprocess, 6.8ms inference, 1.0ms postprocess per image at shape (1, 3, 640, 640)\n",
      "\n",
      "image 1/1 /home/fatninja/Desktop/defectDetection/crack_detection-1/test/images/SampleV2_2_mp4-50_jpg.rf.bff6a2cd63de0ff85a34ea1f9105905d.jpg: 640x640 2 1s, 2 2s, 5.7ms\n",
      "Speed: 1.0ms preprocess, 5.7ms inference, 1.0ms postprocess per image at shape (1, 3, 640, 640)\n",
      "\n",
      "image 1/1 /home/fatninja/Desktop/defectDetection/crack_detection-1/test/images/SampleV3_2_mp4-23_jpg.rf.e3c4c52af67caff978e29bb1103fe2b5.jpg: 640x640 1 0, 2 1s, 2 2s, 5.8ms\n",
      "Speed: 1.0ms preprocess, 5.8ms inference, 1.2ms postprocess per image at shape (1, 3, 640, 640)\n",
      "\n",
      "image 1/1 /home/fatninja/Desktop/defectDetection/crack_detection-1/test/images/SampleV3_2_mp4-8_jpg.rf.9b1454a21d4f76b33f1b9934dfb1322d.jpg: 640x640 2 0s, 2 1s, 2 2s, 6.0ms\n",
      "Speed: 0.9ms preprocess, 6.0ms inference, 1.1ms postprocess per image at shape (1, 3, 640, 640)\n",
      "\n",
      "image 1/1 /home/fatninja/Desktop/defectDetection/crack_detection-1/test/images/2c728a0d-fbba-49b1-9d5f-6de47aa7336c_jpg.rf.1c4bd9b56ecdbde25a68bc99e4928f77.jpg: 640x640 1 1, 1 2, 1 3, 6.0ms\n",
      "Speed: 1.0ms preprocess, 6.0ms inference, 1.1ms postprocess per image at shape (1, 3, 640, 640)\n",
      "\n",
      "image 1/1 /home/fatninja/Desktop/defectDetection/crack_detection-1/test/images/SampleV3_2_mp4-7_jpg.rf.e75ce88449055448e95b213dc819edfa.jpg: 640x640 5 0s, 1 1, 1 2, 6.0ms\n",
      "Speed: 0.9ms preprocess, 6.0ms inference, 1.1ms postprocess per image at shape (1, 3, 640, 640)\n",
      "\n",
      "image 1/1 /home/fatninja/Desktop/defectDetection/crack_detection-1/test/images/78ff2d1b-5e95-48ff-ba26-1c03f11f56b9_jpg.rf.8483686404f2d6c795f90592a2959080.jpg: 640x640 1 1, 1 2, 1 3, 6.2ms\n",
      "Speed: 1.3ms preprocess, 6.2ms inference, 1.0ms postprocess per image at shape (1, 3, 640, 640)\n",
      "\n",
      "image 1/1 /home/fatninja/Desktop/defectDetection/crack_detection-1/test/images/dcabbee9-283f-4c47-a1ad-a09bd51c1fa1_jpg.rf.90c08437b440615add7c86e24761ece9.jpg: 640x640 1 1, 1 2, 1 3, 6.2ms\n",
      "Speed: 1.2ms preprocess, 6.2ms inference, 1.0ms postprocess per image at shape (1, 3, 640, 640)\n",
      "\n",
      "image 1/1 /home/fatninja/Desktop/defectDetection/crack_detection-1/test/images/SampleV3_1_mp4-27_jpg.rf.9e0a23961e91aedaa0b5c2c34a82af43.jpg: 640x640 1 1, 1 2, 6.1ms\n",
      "Speed: 1.0ms preprocess, 6.1ms inference, 1.0ms postprocess per image at shape (1, 3, 640, 640)\n",
      "\n",
      "image 1/1 /home/fatninja/Desktop/defectDetection/crack_detection-1/test/images/SampleV1_2_mp4-23_jpg.rf.9f83d0e9ad3cbe0e8e6fc98b47bc1f18.jpg: 640x640 1 0, 1 1, 1 2, 6.1ms\n",
      "Speed: 1.0ms preprocess, 6.1ms inference, 1.0ms postprocess per image at shape (1, 3, 640, 640)\n",
      "\n",
      "image 1/1 /home/fatninja/Desktop/defectDetection/crack_detection-1/test/images/SampleV2_2_mp4-99_jpg.rf.9754153fd79f61e6482b827fd8d1aaf1.jpg: 640x640 1 0, 4 1s, 4 2s, 6.1ms\n",
      "Speed: 1.2ms preprocess, 6.1ms inference, 1.0ms postprocess per image at shape (1, 3, 640, 640)\n",
      "\n",
      "image 1/1 /home/fatninja/Desktop/defectDetection/crack_detection-1/test/images/SampleV2_1_mp4-32_jpg.rf.f3c1e7a9adbf35ddb8c7c70248836855.jpg: 640x640 3 1s, 4 2s, 8.4ms\n",
      "Speed: 1.0ms preprocess, 8.4ms inference, 1.2ms postprocess per image at shape (1, 3, 640, 640)\n",
      "\n",
      "image 1/1 /home/fatninja/Desktop/defectDetection/crack_detection-1/test/images/SampleV2_1_mp4-85_jpg.rf.97776875f12a38e28d4fa01b80bdeaed.jpg: 640x640 1 0, 1 1, 1 2, 5.8ms\n",
      "Speed: 1.0ms preprocess, 5.8ms inference, 1.0ms postprocess per image at shape (1, 3, 640, 640)\n",
      "\n",
      "image 1/1 /home/fatninja/Desktop/defectDetection/crack_detection-1/test/images/SampleV2_2_mp4-4_jpg.rf.c5f7ecfa71825c724b9bd902e0454de2.jpg: 640x640 4 0s, 11 1s, 13 2s, 6.4ms\n",
      "Speed: 0.9ms preprocess, 6.4ms inference, 1.1ms postprocess per image at shape (1, 3, 640, 640)\n",
      "\n",
      "image 1/1 /home/fatninja/Desktop/defectDetection/crack_detection-1/test/images/SampleV2_2_mp4-102_jpg.rf.bf7de13f064a8cf8f9cc2d06fc4458db.jpg: 640x640 3 1s, 2 2s, 6.4ms\n",
      "Speed: 1.2ms preprocess, 6.4ms inference, 1.1ms postprocess per image at shape (1, 3, 640, 640)\n",
      "\n",
      "image 1/1 /home/fatninja/Desktop/defectDetection/crack_detection-1/test/images/SampleV2_1_mp4-81_jpg.rf.e644a0a3c7f77daf0f98f5d717a1c2a6.jpg: 640x640 3 0s, 2 1s, 3 2s, 6.1ms\n",
      "Speed: 0.9ms preprocess, 6.1ms inference, 1.1ms postprocess per image at shape (1, 3, 640, 640)\n",
      "\n",
      "image 1/1 /home/fatninja/Desktop/defectDetection/crack_detection-1/test/images/SampleV3_2_mp4-10_jpg.rf.16bf8a09f59f39bce81d392ad96f5ec1.jpg: 640x640 5 0s, 1 1, 1 2, 6.0ms\n",
      "Speed: 1.0ms preprocess, 6.0ms inference, 1.0ms postprocess per image at shape (1, 3, 640, 640)\n",
      "\n",
      "image 1/1 /home/fatninja/Desktop/defectDetection/crack_detection-1/test/images/SampleV2_1_mp4-12_jpg.rf.0af66a6d70bd67ec0616057eb553edbb.jpg: 640x640 1 0, 4 1s, 4 2s, 6.0ms\n",
      "Speed: 0.9ms preprocess, 6.0ms inference, 1.2ms postprocess per image at shape (1, 3, 640, 640)\n",
      "\n",
      "image 1/1 /home/fatninja/Desktop/defectDetection/crack_detection-1/test/images/SampleV1_2_mp4-15_jpg.rf.2930db6c4526777445e72883a4e91d58.jpg: 640x640 5 0s, 2 1s, 2 2s, 6.2ms\n",
      "Speed: 1.1ms preprocess, 6.2ms inference, 1.0ms postprocess per image at shape (1, 3, 640, 640)\n",
      "\n",
      "image 1/1 /home/fatninja/Desktop/defectDetection/crack_detection-1/test/images/SampleV3_2_mp4-30_jpg.rf.0c5e8843747947e5351574196d20ef6e.jpg: 640x640 1 0, 2 1s, 2 2s, 6.1ms\n",
      "Speed: 1.3ms preprocess, 6.1ms inference, 1.0ms postprocess per image at shape (1, 3, 640, 640)\n",
      "\n",
      "image 1/1 /home/fatninja/Desktop/defectDetection/crack_detection-1/test/images/SampleV1_1_mp4-41_jpg.rf.7a566d0f39a090b8ad93ed9ce091e773.jpg: 640x640 1 0, 4 1s, 6 2s, 5.9ms\n",
      "Speed: 1.0ms preprocess, 5.9ms inference, 1.0ms postprocess per image at shape (1, 3, 640, 640)\n",
      "\n",
      "image 1/1 /home/fatninja/Desktop/defectDetection/crack_detection-1/test/images/SampleV2_2_mp4-12_jpg.rf.111679ac4a11de4190ab4befd02cf14d.jpg: 640x640 3 0s, 6 1s, 6 2s, 6.3ms\n",
      "Speed: 1.3ms preprocess, 6.3ms inference, 1.6ms postprocess per image at shape (1, 3, 640, 640)\n",
      "\n",
      "image 1/1 /home/fatninja/Desktop/defectDetection/crack_detection-1/test/images/SampleV2_2_mp4-61_jpg.rf.ea976d0fdc48932e1d28893cf1dc43bf.jpg: 640x640 2 0s, 1 2, 5.8ms\n",
      "Speed: 1.0ms preprocess, 5.8ms inference, 1.0ms postprocess per image at shape (1, 3, 640, 640)\n",
      "\n",
      "image 1/1 /home/fatninja/Desktop/defectDetection/crack_detection-1/test/images/SampleV2_1_mp4-39_jpg.rf.8d30c7203da074f0935176239131c898.jpg: 640x640 2 1s, 1 2, 6.3ms\n",
      "Speed: 1.0ms preprocess, 6.3ms inference, 1.1ms postprocess per image at shape (1, 3, 640, 640)\n",
      "\n",
      "image 1/1 /home/fatninja/Desktop/defectDetection/crack_detection-1/test/images/SampleV2_2_mp4-5_jpg.rf.9f2b87e88764e2e190de59160e11212b.jpg: 640x640 5 0s, 11 1s, 12 2s, 6.3ms\n",
      "Speed: 1.0ms preprocess, 6.3ms inference, 1.0ms postprocess per image at shape (1, 3, 640, 640)\n",
      "\n",
      "image 1/1 /home/fatninja/Desktop/defectDetection/crack_detection-1/test/images/SampleV3_1_mp4-41_jpg.rf.aa594b6ef5fd1d4f3bd9359e2fd13262.jpg: 640x640 1 0, 3 1s, 3 2s, 5.7ms\n",
      "Speed: 1.0ms preprocess, 5.7ms inference, 1.0ms postprocess per image at shape (1, 3, 640, 640)\n",
      "\n",
      "image 1/1 /home/fatninja/Desktop/defectDetection/crack_detection-1/test/images/98930dbe-9889-4f86-bbad-bb2feb8296fb_jpg.rf.f472fe3091c39cb5d074065b7287e356.jpg: 640x640 1 1, 1 2, 1 3, 5.7ms\n",
      "Speed: 1.0ms preprocess, 5.7ms inference, 1.1ms postprocess per image at shape (1, 3, 640, 640)\n",
      "\n",
      "image 1/1 /home/fatninja/Desktop/defectDetection/crack_detection-1/test/images/SampleV3_1_mp4-43_jpg.rf.756d8c579ba71fafd628bbb63d6900f7.jpg: 640x640 1 1, 2 2s, 6.3ms\n",
      "Speed: 1.1ms preprocess, 6.3ms inference, 1.0ms postprocess per image at shape (1, 3, 640, 640)\n",
      "\n",
      "image 1/1 /home/fatninja/Desktop/defectDetection/crack_detection-1/test/images/SampleV1_2_mp4-24_jpg.rf.71eac55f86e6e37247058435c7a3262f.jpg: 640x640 2 0s, 2 1s, 2 2s, 5.9ms\n",
      "Speed: 1.1ms preprocess, 5.9ms inference, 1.0ms postprocess per image at shape (1, 3, 640, 640)\n",
      "\n",
      "image 1/1 /home/fatninja/Desktop/defectDetection/crack_detection-1/test/images/SampleV1_1_mp4-11_jpg.rf.2734e3e1c203018827943edd04f74e33.jpg: 640x640 1 0, 1 1, 2 2s, 5.7ms\n",
      "Speed: 1.0ms preprocess, 5.7ms inference, 1.0ms postprocess per image at shape (1, 3, 640, 640)\n",
      "\n",
      "image 1/1 /home/fatninja/Desktop/defectDetection/crack_detection-1/test/images/SampleV2_1_mp4-14_jpg.rf.e963e4ea94845019a66d7276f9d036ec.jpg: 640x640 2 0s, 4 1s, 4 2s, 5.8ms\n",
      "Speed: 0.9ms preprocess, 5.8ms inference, 1.1ms postprocess per image at shape (1, 3, 640, 640)\n",
      "\n",
      "image 1/1 /home/fatninja/Desktop/defectDetection/crack_detection-1/test/images/SampleV2_2_mp4-40_jpg.rf.d8d977dc73241febf9b744d0e0ea2d41.jpg: 640x640 2 0s, 4 1s, 8 2s, 5.7ms\n",
      "Speed: 1.0ms preprocess, 5.7ms inference, 1.0ms postprocess per image at shape (1, 3, 640, 640)\n",
      "\n",
      "image 1/1 /home/fatninja/Desktop/defectDetection/crack_detection-1/test/images/SampleV2_1_mp4-83_jpg.rf.bf1a8e03e4aa7028e9ca968cb8697edf.jpg: 640x640 1 0, 1 1, 2 2s, 5.8ms\n",
      "Speed: 1.0ms preprocess, 5.8ms inference, 1.0ms postprocess per image at shape (1, 3, 640, 640)\n",
      "\n",
      "image 1/1 /home/fatninja/Desktop/defectDetection/crack_detection-1/test/images/SampleV2_1_mp4-39_jpg.rf.b2a0be91e270552f9ca8b40acf14fff9.jpg: 640x640 2 1s, 2 2s, 5.6ms\n",
      "Speed: 0.9ms preprocess, 5.6ms inference, 1.2ms postprocess per image at shape (1, 3, 640, 640)\n",
      "\n",
      "image 1/1 /home/fatninja/Desktop/defectDetection/crack_detection-1/test/images/SampleV1_1_mp4-20_jpg.rf.27cdda4862535f81b624400f23eeec88.jpg: 640x640 1 0, 1 1, 1 2, 5.9ms\n",
      "Speed: 1.0ms preprocess, 5.9ms inference, 1.2ms postprocess per image at shape (1, 3, 640, 640)\n",
      "\n",
      "image 1/1 /home/fatninja/Desktop/defectDetection/crack_detection-1/test/images/SampleV2_1_mp4-1_jpg.rf.614c008f9efd051c33b50a314364442d.jpg: 640x640 3 0s, 14 1s, 12 2s, 6.6ms\n",
      "Speed: 0.9ms preprocess, 6.6ms inference, 1.1ms postprocess per image at shape (1, 3, 640, 640)\n",
      "\n",
      "image 1/1 /home/fatninja/Desktop/defectDetection/crack_detection-1/test/images/SampleV2_2_mp4-108_jpg.rf.395a606e52bd68a056acc551667e5071.jpg: 640x640 12 1s, 10 2s, 5.9ms\n",
      "Speed: 1.0ms preprocess, 5.9ms inference, 1.0ms postprocess per image at shape (1, 3, 640, 640)\n",
      "\n",
      "image 1/1 /home/fatninja/Desktop/defectDetection/crack_detection-1/test/images/a1ebea25-091b-4200-a1c7-61767cd81dd9_jpg.rf.c729e264739b6cf8c8863ccfa87e513e.jpg: 640x640 1 1, 1 2, 1 3, 6.2ms\n",
      "Speed: 1.0ms preprocess, 6.2ms inference, 1.1ms postprocess per image at shape (1, 3, 640, 640)\n",
      "\n",
      "image 1/1 /home/fatninja/Desktop/defectDetection/crack_detection-1/test/images/SampleV2_1_mp4-92_jpg.rf.f40bc7c7ed6cb5ec483e5179db52975f.jpg: 640x640 4 1s, 5 2s, 6.4ms\n",
      "Speed: 1.3ms preprocess, 6.4ms inference, 1.0ms postprocess per image at shape (1, 3, 640, 640)\n",
      "\n",
      "image 1/1 /home/fatninja/Desktop/defectDetection/crack_detection-1/test/images/SampleV2_1_mp4-52_jpg.rf.b8c26392786613f8bef9cb3c1918eb83.jpg: 640x640 1 0, 1 1, 1 2, 6.0ms\n",
      "Speed: 1.0ms preprocess, 6.0ms inference, 1.2ms postprocess per image at shape (1, 3, 640, 640)\n",
      "\n",
      "image 1/1 /home/fatninja/Desktop/defectDetection/crack_detection-1/test/images/9b8eabf5-9ce1-487a-b3db-8572a62be8d4_jpg.rf.69c17f823b9c4558053682a2fecc579f.jpg: 640x640 1 1, 1 2, 1 3, 6.2ms\n",
      "Speed: 0.9ms preprocess, 6.2ms inference, 1.1ms postprocess per image at shape (1, 3, 640, 640)\n",
      "\n",
      "image 1/1 /home/fatninja/Desktop/defectDetection/crack_detection-1/test/images/SampleV2_2_mp4-46_jpg.rf.1d523be59f57dce419bf83175f56aca3.jpg: 640x640 1 0, 1 1, 2 2s, 6.4ms\n",
      "Speed: 1.0ms preprocess, 6.4ms inference, 1.1ms postprocess per image at shape (1, 3, 640, 640)\n",
      "\n",
      "image 1/1 /home/fatninja/Desktop/defectDetection/crack_detection-1/test/images/SampleV1_1_mp4-0_jpg.rf.8cb81378947cc93d3f37703be995c7c6.jpg: 640x640 1 0, 12 1s, 12 2s, 6.0ms\n",
      "Speed: 1.0ms preprocess, 6.0ms inference, 1.0ms postprocess per image at shape (1, 3, 640, 640)\n",
      "\n",
      "image 1/1 /home/fatninja/Desktop/defectDetection/crack_detection-1/test/images/SampleV2_1_mp4-35_jpg.rf.eac77064ae71e9784f0f22ad3ab7c290.jpg: 640x640 1 0, 3 1s, 3 2s, 8.2ms\n",
      "Speed: 1.1ms preprocess, 8.2ms inference, 1.0ms postprocess per image at shape (1, 3, 640, 640)\n",
      "\n",
      "image 1/1 /home/fatninja/Desktop/defectDetection/crack_detection-1/test/images/497a7473-1a44-4651-9589-6a73118cb33f_jpg.rf.2135902b45ebd2052c94d4b30d199012.jpg: 640x640 2 1s, 1 2, 1 3, 5.7ms\n",
      "Speed: 1.0ms preprocess, 5.7ms inference, 1.0ms postprocess per image at shape (1, 3, 640, 640)\n",
      "\n",
      "image 1/1 /home/fatninja/Desktop/defectDetection/crack_detection-1/test/images/SampleV2_1_mp4-7_jpg.rf.f81668196249174ea353b4724858da4a.jpg: 640x640 5 0s, 4 1s, 5 2s, 6.1ms\n",
      "Speed: 1.1ms preprocess, 6.1ms inference, 1.0ms postprocess per image at shape (1, 3, 640, 640)\n",
      "\n",
      "image 1/1 /home/fatninja/Desktop/defectDetection/crack_detection-1/test/images/SampleV3_1_mp4-44_jpg.rf.7a705237adc8735284d643e8c260622c.jpg: 640x640 1 0, 2 1s, 2 2s, 7.3ms\n",
      "Speed: 0.9ms preprocess, 7.3ms inference, 1.2ms postprocess per image at shape (1, 3, 640, 640)\n",
      "\n",
      "image 1/1 /home/fatninja/Desktop/defectDetection/crack_detection-1/test/images/SampleV2_1_mp4-12_jpg.rf.06a9c9c189572bc1ff775685e7c75e94.jpg: 640x640 1 0, 4 1s, 4 2s, 6.2ms\n",
      "Speed: 1.3ms preprocess, 6.2ms inference, 1.0ms postprocess per image at shape (1, 3, 640, 640)\n",
      "\n",
      "image 1/1 /home/fatninja/Desktop/defectDetection/crack_detection-1/test/images/SampleV2_1_mp4-57_jpg.rf.71451d5b8d524b58116b3014616e8f6f.jpg: 640x640 3 1s, 2 2s, 5.9ms\n",
      "Speed: 1.0ms preprocess, 5.9ms inference, 1.0ms postprocess per image at shape (1, 3, 640, 640)\n",
      "\n",
      "image 1/1 /home/fatninja/Desktop/defectDetection/crack_detection-1/test/images/SampleV2_1_mp4-41_jpg.rf.ba9f1fcde6bd6d1a5e7797db0bceda79.jpg: 640x640 3 0s, 2 1s, 2 2s, 6.2ms\n",
      "Speed: 1.1ms preprocess, 6.2ms inference, 1.1ms postprocess per image at shape (1, 3, 640, 640)\n",
      "\n",
      "image 1/1 /home/fatninja/Desktop/defectDetection/crack_detection-1/test/images/SampleV1_2_mp4-25_jpg.rf.a1cc15c6a13f9f442cb46f7996be9151.jpg: 640x640 2 0s, 1 1, 1 2, 6.1ms\n",
      "Speed: 1.0ms preprocess, 6.1ms inference, 1.1ms postprocess per image at shape (1, 3, 640, 640)\n",
      "\n",
      "image 1/1 /home/fatninja/Desktop/defectDetection/crack_detection-1/test/images/SampleV2_2_mp4-68_jpg.rf.5b1693a02af17f6a8dc7aa97e4892060.jpg: 640x640 3 1s, 4 2s, 6.0ms\n",
      "Speed: 1.3ms preprocess, 6.0ms inference, 1.0ms postprocess per image at shape (1, 3, 640, 640)\n",
      "\n",
      "image 1/1 /home/fatninja/Desktop/defectDetection/crack_detection-1/test/images/SampleV3_1_mp4-12_jpg.rf.a51c164f25b630ed2c179c037047133c.jpg: 640x640 2 0s, 2 1s, 3 2s, 6.0ms\n",
      "Speed: 1.0ms preprocess, 6.0ms inference, 1.1ms postprocess per image at shape (1, 3, 640, 640)\n",
      "\n",
      "image 1/1 /home/fatninja/Desktop/defectDetection/crack_detection-1/test/images/SampleV2_1_mp4-94_jpg.rf.047431208005cc12a67de1436e548996.jpg: 640x640 2 0s, 5 1s, 5 2s, 6.0ms\n",
      "Speed: 1.0ms preprocess, 6.0ms inference, 1.1ms postprocess per image at shape (1, 3, 640, 640)\n",
      "\n",
      "image 1/1 /home/fatninja/Desktop/defectDetection/crack_detection-1/test/images/SampleV2_2_mp4-46_jpg.rf.c3e7b58a2c2100b3007ff4c4781f3eec.jpg: 640x640 1 0, 1 1, 2 2s, 6.3ms\n",
      "Speed: 1.0ms preprocess, 6.3ms inference, 1.1ms postprocess per image at shape (1, 3, 640, 640)\n",
      "\n",
      "image 1/1 /home/fatninja/Desktop/defectDetection/crack_detection-1/test/images/SampleV1_1_mp4-13_jpg.rf.f9be6f2c6bbf7471623abe99998f3ed2.jpg: 640x640 1 0, 1 1, 2 2s, 5.8ms\n",
      "Speed: 0.9ms preprocess, 5.8ms inference, 1.1ms postprocess per image at shape (1, 3, 640, 640)\n",
      "\n",
      "image 1/1 /home/fatninja/Desktop/defectDetection/crack_detection-1/test/images/SampleV2_1_mp4-4_jpg.rf.4b33bcaa96886df8972378062727a737.jpg: 640x640 7 0s, 9 1s, 9 2s, 6.1ms\n",
      "Speed: 0.9ms preprocess, 6.1ms inference, 1.5ms postprocess per image at shape (1, 3, 640, 640)\n",
      "\n",
      "image 1/1 /home/fatninja/Desktop/defectDetection/crack_detection-1/test/images/SampleV2_1_mp4-2_jpg.rf.78c4a5b754288c329b43bc4066e7584a.jpg: 640x640 5 0s, 12 1s, 12 2s, 6.0ms\n",
      "Speed: 1.0ms preprocess, 6.0ms inference, 1.1ms postprocess per image at shape (1, 3, 640, 640)\n",
      "\n",
      "image 1/1 /home/fatninja/Desktop/defectDetection/crack_detection-1/test/images/SampleV2_1_mp4-44_jpg.rf.27ead55760c17c03dc74f4b85ce5795c.jpg: 640x640 1 0, 2 1s, 2 2s, 5.7ms\n",
      "Speed: 0.9ms preprocess, 5.7ms inference, 1.0ms postprocess per image at shape (1, 3, 640, 640)\n",
      "\n",
      "image 1/1 /home/fatninja/Desktop/defectDetection/crack_detection-1/test/images/42a1651e-72af-43ee-86e8-420d57d62820_jpg.rf.73ea2039b5711e037ff53e2f77ee2a96.jpg: 640x640 1 1, 1 2, 1 3, 5.8ms\n",
      "Speed: 1.0ms preprocess, 5.8ms inference, 1.1ms postprocess per image at shape (1, 3, 640, 640)\n",
      "\n",
      "image 1/1 /home/fatninja/Desktop/defectDetection/crack_detection-1/test/images/SampleV1_1_mp4-49_jpg.rf.0fb406a536806c99ce1d883c81c51d68.jpg: 640x640 6 0s, 4 1s, 3 2s, 5.9ms\n",
      "Speed: 0.9ms preprocess, 5.9ms inference, 1.1ms postprocess per image at shape (1, 3, 640, 640)\n",
      "\n",
      "image 1/1 /home/fatninja/Desktop/defectDetection/crack_detection-1/test/images/SampleV1_1_mp4-47_jpg.rf.5ecc110bd7ef7f77eb9793d766032142.jpg: 640x640 2 0s, 2 1s, 3 2s, 5.6ms\n",
      "Speed: 0.9ms preprocess, 5.6ms inference, 1.0ms postprocess per image at shape (1, 3, 640, 640)\n"
     ]
    }
   ],
   "source": [
    "import glob\n",
    "import os\n",
    "from ultralytics import YOLO\n",
    "images=glob.glob('/home/fatninja/Desktop/defectDetection/crack_detection-1/test/images/*.jpg')\n",
    "semiFinal=[]\n",
    "pr1=[]\n",
    "pr2=[]\n",
    "pr3=[]\n",
    "pr4=[]\n",
    "\n",
    "for image in images:\n",
    "    \n",
    "    #image=\"/home/fatninja/Desktop/defectDetection/crack_detection-1/test/images/SampleV1_1_mp4-46_jpg.rf.d174bccb986e3e01c69e1b7d5bd82b37.jpg\"\n",
    "    #loading and detection\n",
    "    model=YOLO(\"runs/detect/train/weights/best.pt\")\n",
    "    detection=model(image)\n",
    "\n",
    "    #detection parameters\n",
    "    box=detection[0].boxes.xywh#mAP.tolist()\n",
    "    classes=detection[0].boxes.cls.tolist()\n",
    "    name=detection[0].names\n",
    "    confidence=detection[0].boxes.conf.tolist()\n",
    "\n",
    "\n",
    "    #text file config\n",
    "    file_name=os.path.splitext(os.path.basename(image))\n",
    "    file_name=\"/home/fatninja/Desktop/defectDetection/crack_detection-1/test/labels/\"+str(file_name[0])+\".txt\"\n",
    "\n",
    "    with open(file_name,'r') as file:\n",
    "        lines=file.readlines()\n",
    "    \n",
    "\n",
    "    labels=[list(map(float,line.split())) for line in lines]\n",
    "    \n",
    "    #precesion and recall\n",
    "    tp=0\n",
    "    fp=0\n",
    "    fn=0\n",
    "    l=[]\n",
    "    ind=[]\n",
    "    \n",
    "    \n",
    "    for i in range(len(classes)):\n",
    "        for j in range(len(labels)):\n",
    "            if(classes[i]==labels[j][0]):\n",
    "                \n",
    "                if(labels[j] not in ind):\n",
    "                    ind.append(labels[j])\n",
    "                    box1=box[i]\n",
    "                    box2=[element* 640 for element in labels[j][1:]]\n",
    "                    \n",
    "                    \n",
    "                    area=calculate_iou(box1,box2)\n",
    "                    \n",
    "                    \n",
    "                    \n",
    "                    if area > 0.5:\n",
    "                        if confidence[i]> 0.5:\n",
    "                            tp += 1\n",
    "                        else:\n",
    "                            fn += 1\n",
    "                    else:\n",
    "                        if confidence[i]> 0.5:\n",
    "                            fp += 1\n",
    "        if tp==0:\n",
    "            preceision=0\n",
    "            recall=0\n",
    "        else:\n",
    "            preceision=tp/(tp+fp)\n",
    "            recall=tp/(tp+fn)\n",
    "        #semiFinal.append([preceision,recall])\n",
    "        \n",
    "        if classes[i]==0.0:\n",
    "            pr1.append([preceision,recall])\n",
    "        elif classes[i]==1.0:\n",
    "            pr2.append([preceision,recall])\n",
    "        elif classes[i]==2.0:\n",
    "            pr3.append([preceision,recall])\n",
    "        elif classes[i]==3.0:\n",
    "            pr4.append([preceision,recall])\n",
    "    \n",
    "        "
   ]
  },
  {
   "cell_type": "code",
   "execution_count": 97,
   "metadata": {},
   "outputs": [],
   "source": [
    "\n",
    "def sortxy(l):\n",
    "    sor_semi=sorted(l,key=lambda x:x[0])\n",
    "    print(sor_semi)\n",
    "    finalx=[]\n",
    "    finaly=[]\n",
    "    for i in sor_semi:\n",
    "        finalx.append(i[0])\n",
    "        finaly.append(i[1])\n",
    "    return finalx,finaly\n",
    "\n",
    "\n",
    "    \n"
   ]
  },
  {
   "cell_type": "code",
   "execution_count": 98,
   "metadata": {},
   "outputs": [
    {
     "name": "stdout",
     "output_type": "stream",
     "text": [
      "[[0.0625, 1.0], [0.1, 1.0], [0.1, 1.0], [0.1, 0.6666666666666666], [0.1, 0.6666666666666666], [0.1, 0.6666666666666666], [0.1, 0.6666666666666666], [0.10526315789473684, 0.6666666666666666], [0.10526315789473684, 0.6666666666666666], [0.10526315789473684, 0.6666666666666666], [0.10526315789473684, 1.0], [0.10526315789473684, 1.0], [0.10526315789473684, 1.0], [0.10526315789473684, 1.0], [0.10526315789473684, 1.0], [0.12, 1.0], [0.12, 1.0], [0.12, 1.0], [0.125, 1.0], [0.14285714285714285, 0.6666666666666666], [0.14285714285714285, 0.6666666666666666], [0.14285714285714285, 0.6666666666666666], [0.14285714285714285, 0.6666666666666666], [0.14285714285714285, 0.6666666666666666], [0.15789473684210525, 1.0], [0.15789473684210525, 1.0], [0.15789473684210525, 1.0], [0.15789473684210525, 1.0], [0.15789473684210525, 1.0], [0.16666666666666666, 1.0], [0.16666666666666666, 1.0], [0.16666666666666666, 1.0], [0.16666666666666666, 1.0], [0.16666666666666666, 1.0], [0.16666666666666666, 1.0], [0.16666666666666666, 1.0], [0.18181818181818182, 1.0], [0.18181818181818182, 1.0], [0.18181818181818182, 1.0], [0.18181818181818182, 1.0], [0.2, 0.6666666666666666], [0.2, 0.6666666666666666], [0.2, 0.6666666666666666], [0.2222222222222222, 0.6666666666666666], [0.2222222222222222, 1.0], [0.25, 1.0], [0.25, 1.0], [0.25, 1.0], [0.25, 1.0], [0.25, 1.0], [0.25, 1.0], [0.25, 1.0], [0.25, 1.0], [0.25, 1.0], [0.25, 1.0], [0.25, 1.0], [0.25, 1.0], [0.25, 1.0], [0.25, 1.0], [0.25, 1.0], [0.25, 1.0], [0.25, 1.0], [0.25, 1.0], [0.25, 1.0], [0.25, 1.0], [0.2857142857142857, 1.0], [0.3, 1.0], [0.3, 1.0], [0.3333333333333333, 0.6666666666666666], [0.3333333333333333, 0.6666666666666666], [0.3333333333333333, 0.6666666666666666], [0.3333333333333333, 0.6666666666666666], [0.3333333333333333, 1.0], [0.3333333333333333, 1.0], [0.3333333333333333, 1.0], [0.3333333333333333, 1.0], [0.3333333333333333, 1.0], [0.3333333333333333, 1.0], [0.3333333333333333, 1.0], [0.3333333333333333, 0.6666666666666666], [0.3333333333333333, 1.0], [0.3333333333333333, 1.0], [0.3333333333333333, 1.0], [0.3333333333333333, 1.0], [0.375, 1.0], [0.375, 1.0], [0.375, 1.0], [0.375, 1.0], [0.4, 1.0], [0.4, 1.0], [0.4, 1.0], [0.4, 1.0], [0.4, 1.0], [0.4, 1.0], [0.42857142857142855, 1.0], [0.42857142857142855, 1.0], [0.42857142857142855, 1.0], [0.42857142857142855, 1.0], [0.42857142857142855, 1.0], [0.42857142857142855, 1.0], [0.42857142857142855, 1.0], [0.5, 1.0], [0.5, 1.0], [0.5, 1.0], [0.5, 0.6666666666666666], [0.5, 0.6666666666666666], [0.5, 0.6666666666666666], [0.5, 0.6666666666666666], [0.5, 0.6666666666666666], [0.5, 1.0], [0.5, 1.0], [0.5, 0.6666666666666666], [0.5, 0.6666666666666666], [0.5, 0.6666666666666666], [0.5, 1.0], [0.5, 1.0], [0.5, 1.0], [0.5, 1.0], [0.5, 1.0], [0.5, 0.6666666666666666], [0.5, 1.0], [0.5, 1.0], [0.5, 1.0], [0.6, 1.0], [0.6, 1.0], [0.6, 1.0], [0.6666666666666666, 1.0], [0.6666666666666666, 1.0], [0.6666666666666666, 1.0], [0.6666666666666666, 1.0], [0.6666666666666666, 1.0], [0.6666666666666666, 1.0], [0.6666666666666666, 1.0], [0.6666666666666666, 0.6666666666666666], [0.6666666666666666, 0.6666666666666666], [0.6666666666666666, 0.6666666666666666], [0.6666666666666666, 1.0], [0.75, 1.0], [0.75, 1.0], [0.75, 1.0], [0.75, 1.0], [0.75, 1.0], [1.0, 1.0], [1.0, 1.0], [1.0, 1.0], [1.0, 1.0], [1.0, 0.6666666666666666], [1.0, 0.6666666666666666], [1.0, 0.6666666666666666], [1.0, 0.6666666666666666], [1.0, 0.6666666666666666], [1.0, 0.6666666666666666], [1.0, 0.5], [1.0, 0.5], [1.0, 1.0], [1.0, 1.0], [1.0, 1.0], [1.0, 0.5], [1.0, 0.5], [1.0, 0.5], [1.0, 0.6666666666666666], [1.0, 0.6666666666666666]]\n",
      "[[0.0625, 1.0], [0.0625, 1.0], [0.0625, 1.0], [0.08333333333333333, 1.0], [0.08333333333333333, 1.0], [0.08333333333333333, 1.0], [0.08333333333333333, 1.0], [0.08333333333333333, 1.0], [0.08333333333333333, 1.0], [0.08333333333333333, 1.0], [0.08333333333333333, 1.0], [0.08333333333333333, 1.0], [0.08695652173913043, 1.0], [0.08695652173913043, 1.0], [0.08695652173913043, 1.0], [0.08695652173913043, 1.0], [0.08695652173913043, 1.0], [0.08695652173913043, 1.0], [0.08695652173913043, 1.0], [0.08695652173913043, 1.0], [0.1, 1.0], [0.1, 1.0], [0.1, 1.0], [0.1, 1.0], [0.1, 1.0], [0.1, 1.0], [0.1, 1.0], [0.1, 1.0], [0.1, 1.0], [0.1, 1.0], [0.1, 1.0], [0.1, 1.0], [0.1, 1.0], [0.1, 1.0], [0.1, 1.0], [0.1, 1.0], [0.1, 1.0], [0.1, 1.0], [0.1, 1.0], [0.1, 1.0], [0.1, 1.0], [0.1, 1.0], [0.1, 1.0], [0.1, 0.6666666666666666], [0.10526315789473684, 1.0], [0.10526315789473684, 1.0], [0.10526315789473684, 1.0], [0.10526315789473684, 1.0], [0.10526315789473684, 1.0], [0.10526315789473684, 1.0], [0.10526315789473684, 1.0], [0.10526315789473684, 1.0], [0.10526315789473684, 1.0], [0.10526315789473684, 1.0], [0.10526315789473684, 1.0], [0.10526315789473684, 1.0], [0.10526315789473684, 1.0], [0.10526315789473684, 1.0], [0.10526315789473684, 1.0], [0.10526315789473684, 1.0], [0.10526315789473684, 1.0], [0.10526315789473684, 1.0], [0.10526315789473684, 1.0], [0.10526315789473684, 1.0], [0.10526315789473684, 1.0], [0.11764705882352941, 1.0], [0.11764705882352941, 1.0], [0.11764705882352941, 1.0], [0.11764705882352941, 1.0], [0.11764705882352941, 1.0], [0.11764705882352941, 1.0], [0.11764705882352941, 1.0], [0.11764705882352941, 1.0], [0.11764705882352941, 1.0], [0.11764705882352941, 1.0], [0.11764705882352941, 1.0], [0.11764705882352941, 1.0], [0.11764705882352941, 1.0], [0.11764705882352941, 1.0], [0.11764705882352941, 1.0], [0.11764705882352941, 1.0], [0.11764705882352941, 1.0], [0.11764705882352941, 1.0], [0.11764705882352941, 1.0], [0.11764705882352941, 1.0], [0.11764705882352941, 1.0], [0.12, 1.0], [0.12, 1.0], [0.12, 1.0], [0.12, 1.0], [0.12, 1.0], [0.12, 1.0], [0.14285714285714285, 1.0], [0.14285714285714285, 1.0], [0.14285714285714285, 1.0], [0.14285714285714285, 1.0], [0.14285714285714285, 1.0], [0.14285714285714285, 1.0], [0.14285714285714285, 1.0], [0.14285714285714285, 1.0], [0.14285714285714285, 1.0], [0.14285714285714285, 1.0], [0.14285714285714285, 1.0], [0.14285714285714285, 1.0], [0.14285714285714285, 1.0], [0.14285714285714285, 1.0], [0.15384615384615385, 1.0], [0.15384615384615385, 1.0], [0.15384615384615385, 1.0], [0.15384615384615385, 1.0], [0.15384615384615385, 1.0], [0.15384615384615385, 1.0], [0.15384615384615385, 1.0], [0.15789473684210525, 1.0], [0.15789473684210525, 1.0], [0.15789473684210525, 1.0], [0.16666666666666666, 1.0], [0.16666666666666666, 1.0], [0.16666666666666666, 1.0], [0.16666666666666666, 1.0], [0.16666666666666666, 1.0], [0.16666666666666666, 1.0], [0.16666666666666666, 1.0], [0.16666666666666666, 1.0], [0.16666666666666666, 1.0], [0.16666666666666666, 1.0], [0.16666666666666666, 1.0], [0.16666666666666666, 1.0], [0.2, 1.0], [0.2, 1.0], [0.2, 1.0], [0.2, 1.0], [0.2, 1.0], [0.2, 1.0], [0.2, 1.0], [0.2, 1.0], [0.2, 1.0], [0.2222222222222222, 1.0], [0.2222222222222222, 1.0], [0.2222222222222222, 1.0], [0.2222222222222222, 1.0], [0.25, 1.0], [0.25, 1.0], [0.25, 1.0], [0.25, 1.0], [0.25, 1.0], [0.25, 1.0], [0.25, 1.0], [0.25, 1.0], [0.25, 1.0], [0.25, 1.0], [0.25, 1.0], [0.25, 1.0], [0.25, 1.0], [0.25, 1.0], [0.25, 1.0], [0.25, 1.0], [0.25, 1.0], [0.25, 1.0], [0.25, 1.0], [0.25, 1.0], [0.25, 1.0], [0.25, 1.0], [0.25, 1.0], [0.25, 1.0], [0.25, 1.0], [0.25, 1.0], [0.25, 1.0], [0.25, 1.0], [0.25, 1.0], [0.25, 1.0], [0.25, 1.0], [0.25, 1.0], [0.25, 1.0], [0.25, 1.0], [0.25, 1.0], [0.25, 1.0], [0.25, 1.0], [0.25, 1.0], [0.2857142857142857, 1.0], [0.2857142857142857, 1.0], [0.2857142857142857, 1.0], [0.2857142857142857, 1.0], [0.2857142857142857, 1.0], [0.2857142857142857, 1.0], [0.2857142857142857, 1.0], [0.3333333333333333, 1.0], [0.3333333333333333, 1.0], [0.3333333333333333, 1.0], [0.3333333333333333, 1.0], [0.3333333333333333, 1.0], [0.3333333333333333, 1.0], [0.3333333333333333, 1.0], [0.3333333333333333, 1.0], [0.3333333333333333, 1.0], [0.3333333333333333, 1.0], [0.3333333333333333, 1.0], [0.3333333333333333, 1.0], [0.3333333333333333, 1.0], [0.3333333333333333, 1.0], [0.3333333333333333, 0.6666666666666666], [0.3333333333333333, 1.0], [0.3333333333333333, 1.0], [0.3333333333333333, 1.0], [0.3333333333333333, 1.0], [0.3333333333333333, 1.0], [0.3333333333333333, 1.0], [0.3333333333333333, 1.0], [0.3333333333333333, 1.0], [0.3333333333333333, 1.0], [0.3333333333333333, 1.0], [0.3333333333333333, 1.0], [0.3333333333333333, 1.0], [0.3333333333333333, 1.0], [0.3333333333333333, 1.0], [0.3333333333333333, 1.0], [0.3333333333333333, 1.0], [0.3333333333333333, 1.0], [0.3333333333333333, 1.0], [0.3333333333333333, 1.0], [0.3333333333333333, 1.0], [0.3333333333333333, 1.0], [0.3333333333333333, 1.0], [0.3333333333333333, 1.0], [0.3333333333333333, 1.0], [0.375, 1.0], [0.375, 1.0], [0.375, 1.0], [0.375, 1.0], [0.4, 1.0], [0.4, 1.0], [0.4, 1.0], [0.4, 1.0], [0.4, 1.0], [0.4, 1.0], [0.42857142857142855, 1.0], [0.5, 1.0], [0.5, 1.0], [0.5, 1.0], [0.5, 1.0], [0.5, 1.0], [0.5, 1.0], [0.5, 1.0], [0.5, 1.0], [0.5, 1.0], [0.5, 1.0], [0.5, 1.0], [0.5, 1.0], [0.5, 1.0], [0.5, 1.0], [0.5, 1.0], [0.5, 1.0], [0.5, 1.0], [0.5, 1.0], [0.5, 1.0], [0.5, 1.0], [0.5, 1.0], [0.5, 1.0], [0.5, 1.0], [0.5, 1.0], [0.5, 1.0], [0.5, 1.0], [0.5, 1.0], [0.5, 1.0], [0.5, 1.0], [0.5, 1.0], [0.5, 1.0], [0.5, 1.0], [0.5, 1.0], [0.5, 1.0], [0.5, 1.0], [0.5, 1.0], [0.5, 1.0], [0.5, 1.0], [0.5, 1.0], [0.5, 1.0], [0.5, 1.0], [0.5, 1.0], [0.5, 1.0], [0.5, 1.0], [0.5, 1.0], [0.5, 1.0], [0.5, 1.0], [0.5, 1.0], [0.5, 1.0], [0.5, 1.0], [0.5, 1.0], [0.5, 1.0], [0.5, 1.0], [0.5, 1.0], [0.5, 1.0], [0.5, 1.0], [0.5, 1.0], [0.5, 1.0], [0.5, 1.0], [0.6, 1.0], [0.6666666666666666, 1.0], [0.6666666666666666, 1.0], [0.6666666666666666, 1.0], [0.6666666666666666, 1.0], [0.6666666666666666, 1.0], [0.6666666666666666, 1.0], [0.6666666666666666, 1.0], [0.6666666666666666, 1.0], [0.6666666666666666, 1.0], [0.75, 1.0], [1.0, 1.0], [1.0, 1.0], [1.0, 1.0], [1.0, 1.0], [1.0, 1.0], [1.0, 1.0], [1.0, 1.0], [1.0, 1.0], [1.0, 1.0], [1.0, 1.0], [1.0, 1.0], [1.0, 1.0], [1.0, 1.0], [1.0, 1.0], [1.0, 1.0], [1.0, 1.0], [1.0, 1.0], [1.0, 1.0], [1.0, 1.0], [1.0, 1.0], [1.0, 1.0], [1.0, 1.0], [1.0, 1.0], [1.0, 1.0], [1.0, 1.0], [1.0, 1.0], [1.0, 1.0], [1.0, 1.0], [1.0, 1.0], [1.0, 1.0], [1.0, 1.0], [1.0, 1.0], [1.0, 1.0], [1.0, 1.0], [1.0, 1.0]]\n",
      "[[0.08333333333333333, 1.0], [0.08333333333333333, 1.0], [0.08333333333333333, 1.0], [0.08333333333333333, 1.0], [0.08333333333333333, 1.0], [0.08333333333333333, 1.0], [0.08333333333333333, 1.0], [0.08333333333333333, 1.0], [0.08333333333333333, 1.0], [0.08333333333333333, 1.0], [0.08333333333333333, 1.0], [0.08333333333333333, 1.0], [0.08333333333333333, 1.0], [0.08333333333333333, 1.0], [0.08333333333333333, 1.0], [0.08333333333333333, 1.0], [0.08333333333333333, 1.0], [0.08333333333333333, 1.0], [0.08333333333333333, 1.0], [0.08333333333333333, 1.0], [0.08333333333333333, 1.0], [0.08333333333333333, 1.0], [0.08333333333333333, 1.0], [0.08333333333333333, 1.0], [0.1, 1.0], [0.1, 1.0], [0.1, 1.0], [0.1, 1.0], [0.1, 1.0], [0.1, 1.0], [0.1, 1.0], [0.1, 1.0], [0.1, 1.0], [0.1, 1.0], [0.1, 1.0], [0.1, 1.0], [0.1, 1.0], [0.1, 1.0], [0.1, 1.0], [0.1, 1.0], [0.1, 1.0], [0.1, 1.0], [0.1, 1.0], [0.1, 1.0], [0.1, 1.0], [0.1, 1.0], [0.1, 1.0], [0.1, 1.0], [0.1, 1.0], [0.1, 1.0], [0.1, 1.0], [0.1, 1.0], [0.1, 1.0], [0.1, 1.0], [0.1, 1.0], [0.1, 1.0], [0.1, 1.0], [0.10526315789473684, 1.0], [0.10526315789473684, 1.0], [0.1111111111111111, 1.0], [0.1111111111111111, 1.0], [0.1111111111111111, 1.0], [0.1111111111111111, 1.0], [0.1111111111111111, 1.0], [0.1111111111111111, 1.0], [0.1111111111111111, 1.0], [0.1111111111111111, 1.0], [0.1111111111111111, 1.0], [0.1111111111111111, 1.0], [0.1111111111111111, 1.0], [0.1111111111111111, 1.0], [0.1111111111111111, 1.0], [0.1111111111111111, 1.0], [0.1111111111111111, 1.0], [0.1111111111111111, 1.0], [0.1111111111111111, 1.0], [0.1111111111111111, 1.0], [0.1111111111111111, 1.0], [0.1111111111111111, 1.0], [0.1111111111111111, 1.0], [0.1111111111111111, 1.0], [0.1111111111111111, 1.0], [0.1111111111111111, 1.0], [0.1111111111111111, 1.0], [0.1111111111111111, 1.0], [0.1111111111111111, 1.0], [0.1111111111111111, 1.0], [0.1111111111111111, 1.0], [0.1111111111111111, 1.0], [0.1111111111111111, 1.0], [0.1111111111111111, 1.0], [0.1111111111111111, 1.0], [0.1111111111111111, 1.0], [0.1111111111111111, 1.0], [0.1111111111111111, 1.0], [0.1111111111111111, 1.0], [0.1111111111111111, 1.0], [0.1111111111111111, 1.0], [0.1111111111111111, 1.0], [0.11764705882352941, 1.0], [0.11764705882352941, 1.0], [0.14285714285714285, 1.0], [0.14285714285714285, 1.0], [0.14285714285714285, 1.0], [0.14285714285714285, 1.0], [0.14285714285714285, 1.0], [0.14285714285714285, 1.0], [0.14285714285714285, 1.0], [0.14285714285714285, 1.0], [0.14285714285714285, 1.0], [0.14285714285714285, 1.0], [0.14285714285714285, 1.0], [0.14285714285714285, 1.0], [0.14285714285714285, 1.0], [0.14285714285714285, 1.0], [0.16666666666666666, 1.0], [0.16666666666666666, 1.0], [0.16666666666666666, 1.0], [0.16666666666666666, 1.0], [0.16666666666666666, 1.0], [0.16666666666666666, 1.0], [0.16666666666666666, 1.0], [0.18181818181818182, 1.0], [0.2, 1.0], [0.2, 1.0], [0.2, 1.0], [0.2, 1.0], [0.2, 1.0], [0.2, 1.0], [0.2, 1.0], [0.2, 1.0], [0.2, 1.0], [0.2, 1.0], [0.2, 1.0], [0.25, 1.0], [0.25, 1.0], [0.25, 1.0], [0.25, 1.0], [0.25, 1.0], [0.25, 1.0], [0.25, 1.0], [0.25, 1.0], [0.25, 1.0], [0.25, 1.0], [0.25, 1.0], [0.25, 1.0], [0.25, 1.0], [0.25, 1.0], [0.25, 1.0], [0.25, 1.0], [0.25, 1.0], [0.25, 1.0], [0.25, 1.0], [0.25, 1.0], [0.25, 1.0], [0.25, 1.0], [0.25, 1.0], [0.25, 1.0], [0.25, 1.0], [0.25, 1.0], [0.25, 1.0], [0.25, 1.0], [0.25, 1.0], [0.25, 1.0], [0.25, 1.0], [0.25, 1.0], [0.25, 1.0], [0.25, 1.0], [0.25, 1.0], [0.25, 1.0], [0.25, 1.0], [0.25, 1.0], [0.25, 1.0], [0.25, 1.0], [0.25, 1.0], [0.25, 1.0], [0.25, 1.0], [0.25, 1.0], [0.25, 1.0], [0.25, 1.0], [0.25, 1.0], [0.25, 1.0], [0.25, 1.0], [0.25, 1.0], [0.25, 1.0], [0.25, 1.0], [0.25, 1.0], [0.25, 1.0], [0.25, 1.0], [0.25, 1.0], [0.25, 1.0], [0.25, 1.0], [0.25, 1.0], [0.25, 1.0], [0.25, 1.0], [0.3, 1.0], [0.3, 1.0], [0.3, 1.0], [0.3, 1.0], [0.3333333333333333, 1.0], [0.3333333333333333, 1.0], [0.3333333333333333, 1.0], [0.3333333333333333, 1.0], [0.3333333333333333, 1.0], [0.3333333333333333, 1.0], [0.3333333333333333, 1.0], [0.3333333333333333, 1.0], [0.3333333333333333, 1.0], [0.3333333333333333, 1.0], [0.3333333333333333, 1.0], [0.3333333333333333, 1.0], [0.3333333333333333, 1.0], [0.3333333333333333, 1.0], [0.3333333333333333, 1.0], [0.3333333333333333, 1.0], [0.3333333333333333, 1.0], [0.3333333333333333, 1.0], [0.3333333333333333, 1.0], [0.3333333333333333, 1.0], [0.3333333333333333, 1.0], [0.3333333333333333, 1.0], [0.3333333333333333, 1.0], [0.3333333333333333, 1.0], [0.3333333333333333, 1.0], [0.3333333333333333, 1.0], [0.3333333333333333, 1.0], [0.3333333333333333, 1.0], [0.3333333333333333, 1.0], [0.3333333333333333, 1.0], [0.3333333333333333, 1.0], [0.3333333333333333, 1.0], [0.3333333333333333, 1.0], [0.3333333333333333, 1.0], [0.3333333333333333, 1.0], [0.3333333333333333, 1.0], [0.3333333333333333, 1.0], [0.3333333333333333, 1.0], [0.3333333333333333, 1.0], [0.3333333333333333, 1.0], [0.3333333333333333, 1.0], [0.3333333333333333, 1.0], [0.3333333333333333, 1.0], [0.3333333333333333, 1.0], [0.3333333333333333, 1.0], [0.3333333333333333, 1.0], [0.4, 1.0], [0.4, 1.0], [0.5, 1.0], [0.5, 1.0], [0.5, 1.0], [0.5, 1.0], [0.5, 1.0], [0.5, 1.0], [0.5, 1.0], [0.5, 1.0], [0.5, 1.0], [0.5, 1.0], [0.5, 1.0], [0.5, 1.0], [0.5, 1.0], [0.5, 1.0], [0.5, 1.0], [0.5, 0.6666666666666666], [0.5, 1.0], [0.5, 1.0], [0.5, 1.0], [0.5, 1.0], [0.5, 1.0], [0.5, 1.0], [0.5, 1.0], [0.5, 1.0], [0.5, 1.0], [0.5, 1.0], [0.5, 1.0], [0.5, 1.0], [0.5, 1.0], [0.5, 1.0], [0.5, 1.0], [0.5, 1.0], [0.5, 1.0], [0.5, 1.0], [0.5, 1.0], [0.5, 1.0], [0.5, 1.0], [0.5, 1.0], [0.5, 1.0], [0.5, 1.0], [0.5, 1.0], [0.5, 1.0], [0.5, 1.0], [0.5, 1.0], [0.5, 1.0], [0.5, 1.0], [0.5, 1.0], [0.5, 1.0], [0.5, 1.0], [0.5, 1.0], [0.5, 1.0], [0.5, 1.0], [0.5, 1.0], [0.5, 1.0], [0.5, 1.0], [0.5, 1.0], [0.5, 1.0], [0.5, 1.0], [0.5, 1.0], [0.5, 1.0], [0.5, 1.0], [0.5, 1.0], [0.5, 1.0], [0.5, 1.0], [0.5, 1.0], [0.5, 1.0], [0.5, 1.0], [0.5, 1.0], [0.5, 1.0], [0.5, 1.0], [0.5, 1.0], [0.5, 1.0], [0.5, 1.0], [0.5, 1.0], [0.5, 1.0], [0.5, 1.0], [0.5, 1.0], [0.6666666666666666, 1.0], [0.6666666666666666, 1.0], [0.6666666666666666, 1.0], [0.6666666666666666, 1.0], [0.6666666666666666, 1.0], [0.75, 1.0], [1.0, 1.0], [1.0, 1.0], [1.0, 1.0], [1.0, 1.0], [1.0, 1.0], [1.0, 1.0], [1.0, 1.0], [1.0, 1.0], [1.0, 1.0], [1.0, 1.0], [1.0, 1.0], [1.0, 1.0], [1.0, 1.0], [1.0, 1.0], [1.0, 1.0], [1.0, 1.0], [1.0, 1.0], [1.0, 1.0], [1.0, 1.0], [1.0, 1.0], [1.0, 1.0], [1.0, 1.0], [1.0, 1.0], [1.0, 1.0], [1.0, 1.0], [1.0, 1.0], [1.0, 1.0], [1.0, 1.0], [1.0, 1.0], [1.0, 1.0], [1.0, 1.0], [1.0, 1.0], [1.0, 1.0], [1.0, 1.0], [1.0, 1.0], [1.0, 1.0], [1.0, 1.0], [1.0, 1.0], [1.0, 1.0], [1.0, 1.0], [1.0, 1.0], [1.0, 1.0]]\n",
      "[[1.0, 1.0], [1.0, 1.0], [1.0, 1.0], [1.0, 1.0], [1.0, 1.0], [1.0, 1.0], [1.0, 1.0], [1.0, 1.0], [1.0, 1.0], [1.0, 1.0], [1.0, 1.0]]\n"
     ]
    }
   ],
   "source": [
    "x1,y1=sortxy(pr1)\n",
    "x2,y2=sortxy(pr2)\n",
    "x3,y3=sortxy(pr3)\n",
    "x4,y4=sortxy(pr4)"
   ]
  },
  {
   "cell_type": "code",
   "execution_count": 99,
   "metadata": {},
   "outputs": [
    {
     "name": "stdout",
     "output_type": "stream",
     "text": [
      "0.9142698919014709 0.9366228070175439 0.9166666666666667 1\n"
     ]
    },
    {
     "name": "stderr",
     "output_type": "stream",
     "text": [
      "/tmp/ipykernel_605389/2455491227.py:2: DeprecationWarning: 'scipy.integrate.trapz' is deprecated in favour of 'scipy.integrate.trapezoid' and will be removed in SciPy 1.14.0\n",
      "  a1=trapz(y1,x1)\n",
      "/tmp/ipykernel_605389/2455491227.py:3: DeprecationWarning: 'scipy.integrate.trapz' is deprecated in favour of 'scipy.integrate.trapezoid' and will be removed in SciPy 1.14.0\n",
      "  a2=trapz(y2,x2)\n",
      "/tmp/ipykernel_605389/2455491227.py:4: DeprecationWarning: 'scipy.integrate.trapz' is deprecated in favour of 'scipy.integrate.trapezoid' and will be removed in SciPy 1.14.0\n",
      "  a3=trapz(y3,x3)\n"
     ]
    }
   ],
   "source": [
    "from scipy.integrate import trapz\n",
    "a1=trapz(y1,x1)\n",
    "a2=trapz(y2,x2)\n",
    "a3=trapz(y3,x3)\n",
    "#a4=trapz(y4,x4)\n",
    "a4=1\n",
    "print(a1,a2,a3,a4)\n"
   ]
  },
  {
   "cell_type": "code",
   "execution_count": 100,
   "metadata": {},
   "outputs": [
    {
     "data": {
      "text/plain": [
       "0.9418898413964203"
      ]
     },
     "execution_count": 100,
     "metadata": {},
     "output_type": "execute_result"
    }
   ],
   "source": [
    "mAP=(a1+a2+a3+a4)/4\n",
    "mAP"
   ]
  },
  {
   "cell_type": "code",
   "execution_count": 101,
   "metadata": {},
   "outputs": [
    {
     "data": {
      "image/png": "[encoded data removed]",
      "text/plain": [
       "<Figure size 640x480 with 1 Axes>"
      ]
     },
     "metadata": {},
     "output_type": "display_data"
    }
   ],
   "source": [
    "import matplotlib.pyplot as plt\n",
    "\n",
    "plt.plot(x1,y1)\n",
    "\n",
    "plt.xlabel('preceision')\n",
    "plt.ylabel('recall')\n",
    "\n",
    "plt.show()"
   ]
  },
  {
   "cell_type": "code",
   "execution_count": 102,
   "metadata": {},
   "outputs": [
    {
     "data": {
      "image/png": "[encoded data removed]",
      "text/plain": [
       "<Figure size 640x480 with 1 Axes>"
      ]
     },
     "metadata": {},
     "output_type": "display_data"
    }
   ],
   "source": [
    "import matplotlib.pyplot as plt\n",
    "\n",
    "plt.plot(x2,y2)\n",
    "\n",
    "plt.xlabel('preceision')\n",
    "plt.ylabel('recall')\n",
    "\n",
    "plt.show()"
   ]
  },
  {
   "cell_type": "code",
   "execution_count": 103,
   "metadata": {},
   "outputs": [
    {
     "data": {
      "image/png": "[encoded data removed]",
      "text/plain": [
       "<Figure size 640x480 with 1 Axes>"
      ]
     },
     "metadata": {},
     "output_type": "display_data"
    }
   ],
   "source": [
    "import matplotlib.pyplot as plt\n",
    "\n",
    "plt.plot(x3,y3)\n",
    "\n",
    "plt.xlabel('preceision')\n",
    "plt.ylabel('recall')\n",
    "\n",
    "plt.show()"
   ]
  },
  {
   "cell_type": "code",
   "execution_count": 104,
   "metadata": {},
   "outputs": [
    {
     "data": {
      "image/png": "[encoded data removed]",
      "text/plain": [
       "<Figure size 640x480 with 1 Axes>"
      ]
     },
     "metadata": {},
     "output_type": "display_data"
    }
   ],
   "source": [
    "import matplotlib.pyplot as plt\n",
    "\n",
    "plt.plot(x4,y4)\n",
    "\n",
    "plt.xlabel('preceision')\n",
    "plt.ylabel('recall')\n",
    "\n",
    "plt.show()"
   ]
  }
 ],
 "metadata": {
  "kernelspec": {
   "display_name": "base",
   "language": "python",
   "name": "python3"
  },
  "language_info": {
   "codemirror_mode": {
    "name": "ipython",
    "version": 3
   },
   "file_extension": ".py",
   "mimetype": "text/x-python",
   "name": "python",
   "nbconvert_exporter": "python",
   "pygments_lexer": "ipython3",
   "version": "3.10.13"
  }
 },
 "nbformat": 4,
 "nbformat_minor": 2
}
